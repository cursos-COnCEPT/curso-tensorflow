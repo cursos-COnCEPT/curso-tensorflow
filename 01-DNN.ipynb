{
 "cells": [
  {
   "cell_type": "markdown",
   "metadata": {},
   "source": [
    "# DNN"
   ]
  },
  {
   "cell_type": "markdown",
   "metadata": {},
   "source": [
    "## Objetivos\n",
    "- Aprender a cargar datos de un archivo CSV en un DataFrame de Pandas.\n",
    "- Comprender la importancia del preprocesamiento de datos en el entrenamiento de redes neuronales.\n",
    "- Crear nuestro primer modelo de una red neuronal.\n",
    "- Evaluar el modelo y realizar predicicones."
   ]
  },
  {
   "cell_type": "code",
   "execution_count": 25,
   "metadata": {},
   "outputs": [
    {
     "name": "stdout",
     "output_type": "stream",
     "text": [
      "2.18.0\n"
     ]
    }
   ],
   "source": [
    "import tensorflow as tf\n",
    "\n",
    "from tensorflow import keras\n",
    "from tensorflow.keras import layers\n",
    "\n",
    "import os\n",
    "import pandas as pd\n",
    "import numpy as np\n",
    "\n",
    "from IPython import display\n",
    "import matplotlib.pyplot as plt\n",
    "\n",
    "print(tf.__version__)"
   ]
  },
  {
   "cell_type": "markdown",
   "metadata": {},
   "source": [
    "## Base de datos experimental: bioreactor\n",
    "El primer paso es cargar los datos desde el archivo `Experiment.csv` a un `DataFrame` utilizndo la librería **pandas**."
   ]
  },
  {
   "cell_type": "code",
   "execution_count": 2,
   "metadata": {},
   "outputs": [
    {
     "data": {
      "text/html": [
       "<div>\n",
       "<style scoped>\n",
       "    .dataframe tbody tr th:only-of-type {\n",
       "        vertical-align: middle;\n",
       "    }\n",
       "\n",
       "    .dataframe tbody tr th {\n",
       "        vertical-align: top;\n",
       "    }\n",
       "\n",
       "    .dataframe thead th {\n",
       "        text-align: right;\n",
       "    }\n",
       "</style>\n",
       "<table border=\"1\" class=\"dataframe\">\n",
       "  <thead>\n",
       "    <tr style=\"text-align: right;\">\n",
       "      <th></th>\n",
       "      <th>GLC_start</th>\n",
       "      <th>feed_start</th>\n",
       "      <th>feed_end</th>\n",
       "      <th>feed_rate</th>\n",
       "      <th>VCD_start</th>\n",
       "      <th>VCD_end</th>\n",
       "    </tr>\n",
       "  </thead>\n",
       "  <tbody>\n",
       "    <tr>\n",
       "      <th>0</th>\n",
       "      <td>64.552323</td>\n",
       "      <td>4</td>\n",
       "      <td>10</td>\n",
       "      <td>10.609717</td>\n",
       "      <td>0.174075</td>\n",
       "      <td>1420.0</td>\n",
       "    </tr>\n",
       "    <tr>\n",
       "      <th>1</th>\n",
       "      <td>25.214075</td>\n",
       "      <td>2</td>\n",
       "      <td>11</td>\n",
       "      <td>7.046333</td>\n",
       "      <td>0.869415</td>\n",
       "      <td>654.0</td>\n",
       "    </tr>\n",
       "    <tr>\n",
       "      <th>2</th>\n",
       "      <td>23.289962</td>\n",
       "      <td>3</td>\n",
       "      <td>8</td>\n",
       "      <td>16.556856</td>\n",
       "      <td>0.724800</td>\n",
       "      <td>1180.0</td>\n",
       "    </tr>\n",
       "    <tr>\n",
       "      <th>3</th>\n",
       "      <td>25.727849</td>\n",
       "      <td>3</td>\n",
       "      <td>10</td>\n",
       "      <td>19.262477</td>\n",
       "      <td>0.349741</td>\n",
       "      <td>1440.0</td>\n",
       "    </tr>\n",
       "    <tr>\n",
       "      <th>4</th>\n",
       "      <td>55.845139</td>\n",
       "      <td>2</td>\n",
       "      <td>10</td>\n",
       "      <td>5.105958</td>\n",
       "      <td>0.969275</td>\n",
       "      <td>842.0</td>\n",
       "    </tr>\n",
       "  </tbody>\n",
       "</table>\n",
       "</div>"
      ],
      "text/plain": [
       "   GLC_start  feed_start  feed_end  feed_rate  VCD_start  VCD_end\n",
       "0  64.552323           4        10  10.609717   0.174075   1420.0\n",
       "1  25.214075           2        11   7.046333   0.869415    654.0\n",
       "2  23.289962           3         8  16.556856   0.724800   1180.0\n",
       "3  25.727849           3        10  19.262477   0.349741   1440.0\n",
       "4  55.845139           2        10   5.105958   0.969275    842.0"
      ]
     },
     "execution_count": 2,
     "metadata": {},
     "output_type": "execute_result"
    }
   ],
   "source": [
    "if 'google.colab' in str(get_ipython()):\n"
    "  dataset_path = os.getcwd() + '/Experiment.csv'\n"
    "else:\n"
    "  dataset_path = os.getcwd() + '\\Experiment.csv'\n"
    "raw_dataset = pd.read_csv(dataset_path)\n",
    "dataset = raw_dataset.copy()\n",
    "dataset.head()"
   ]
  },
  {
   "cell_type": "markdown",
   "metadata": {},
   "source": [
    "En algunos casos, resulta interesante explorar los datos antendiendo a medidas estadísticas."
   ]
  },
  {
   "cell_type": "code",
   "execution_count": 3,
   "metadata": {},
   "outputs": [
    {
     "data": {
      "text/html": [
       "<div>\n",
       "<style scoped>\n",
       "    .dataframe tbody tr th:only-of-type {\n",
       "        vertical-align: middle;\n",
       "    }\n",
       "\n",
       "    .dataframe tbody tr th {\n",
       "        vertical-align: top;\n",
       "    }\n",
       "\n",
       "    .dataframe thead th {\n",
       "        text-align: right;\n",
       "    }\n",
       "</style>\n",
       "<table border=\"1\" class=\"dataframe\">\n",
       "  <thead>\n",
       "    <tr style=\"text-align: right;\">\n",
       "      <th></th>\n",
       "      <th>GLC_start</th>\n",
       "      <th>feed_start</th>\n",
       "      <th>feed_end</th>\n",
       "      <th>feed_rate</th>\n",
       "      <th>VCD_start</th>\n",
       "      <th>VCD_end</th>\n",
       "    </tr>\n",
       "  </thead>\n",
       "  <tbody>\n",
       "    <tr>\n",
       "      <th>count</th>\n",
       "      <td>266.000000</td>\n",
       "      <td>266.000000</td>\n",
       "      <td>266.000000</td>\n",
       "      <td>266.000000</td>\n",
       "      <td>266.000000</td>\n",
       "      <td>266.000000</td>\n",
       "    </tr>\n",
       "    <tr>\n",
       "      <th>mean</th>\n",
       "      <td>45.001835</td>\n",
       "      <td>2.496241</td>\n",
       "      <td>10.003759</td>\n",
       "      <td>12.501536</td>\n",
       "      <td>0.549976</td>\n",
       "      <td>1059.229323</td>\n",
       "    </tr>\n",
       "    <tr>\n",
       "      <th>std</th>\n",
       "      <td>21.425299</td>\n",
       "      <td>0.999049</td>\n",
       "      <td>1.284150</td>\n",
       "      <td>4.592862</td>\n",
       "      <td>0.275509</td>\n",
       "      <td>362.430938</td>\n",
       "    </tr>\n",
       "    <tr>\n",
       "      <th>min</th>\n",
       "      <td>10.000000</td>\n",
       "      <td>1.000000</td>\n",
       "      <td>8.000000</td>\n",
       "      <td>5.000000</td>\n",
       "      <td>0.100000</td>\n",
       "      <td>110.000000</td>\n",
       "    </tr>\n",
       "    <tr>\n",
       "      <th>25%</th>\n",
       "      <td>26.443384</td>\n",
       "      <td>2.000000</td>\n",
       "      <td>9.000000</td>\n",
       "      <td>8.520020</td>\n",
       "      <td>0.311393</td>\n",
       "      <td>759.500000</td>\n",
       "    </tr>\n",
       "    <tr>\n",
       "      <th>50%</th>\n",
       "      <td>44.970863</td>\n",
       "      <td>2.500000</td>\n",
       "      <td>10.000000</td>\n",
       "      <td>12.504869</td>\n",
       "      <td>0.549694</td>\n",
       "      <td>1125.000000</td>\n",
       "    </tr>\n",
       "    <tr>\n",
       "      <th>75%</th>\n",
       "      <td>63.495839</td>\n",
       "      <td>3.000000</td>\n",
       "      <td>11.000000</td>\n",
       "      <td>16.470868</td>\n",
       "      <td>0.788639</td>\n",
       "      <td>1397.500000</td>\n",
       "    </tr>\n",
       "    <tr>\n",
       "      <th>max</th>\n",
       "      <td>80.000000</td>\n",
       "      <td>4.000000</td>\n",
       "      <td>12.000000</td>\n",
       "      <td>20.000000</td>\n",
       "      <td>1.000000</td>\n",
       "      <td>1540.000000</td>\n",
       "    </tr>\n",
       "  </tbody>\n",
       "</table>\n",
       "</div>"
      ],
      "text/plain": [
       "        GLC_start  feed_start    feed_end   feed_rate   VCD_start      VCD_end\n",
       "count  266.000000  266.000000  266.000000  266.000000  266.000000   266.000000\n",
       "mean    45.001835    2.496241   10.003759   12.501536    0.549976  1059.229323\n",
       "std     21.425299    0.999049    1.284150    4.592862    0.275509   362.430938\n",
       "min     10.000000    1.000000    8.000000    5.000000    0.100000   110.000000\n",
       "25%     26.443384    2.000000    9.000000    8.520020    0.311393   759.500000\n",
       "50%     44.970863    2.500000   10.000000   12.504869    0.549694  1125.000000\n",
       "75%     63.495839    3.000000   11.000000   16.470868    0.788639  1397.500000\n",
       "max     80.000000    4.000000   12.000000   20.000000    1.000000  1540.000000"
      ]
     },
     "execution_count": 3,
     "metadata": {},
     "output_type": "execute_result"
    }
   ],
   "source": [
    "dataset.describe()"
   ]
  },
  {
   "cell_type": "markdown",
   "metadata": {},
   "source": [
    "Así como representar los datos de forma gráfica."
   ]
  },
  {
   "cell_type": "code",
   "execution_count": 4,
   "metadata": {},
   "outputs": [
    {
     "data": {
      "image/png": "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",
      "text/plain": [
       "<Figure size 640x480 with 1 Axes>"
      ]
     },
     "metadata": {},
     "output_type": "display_data"
    },
    {
     "data": {
      "image/png": "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",
      "text/plain": [
       "<Figure size 640x480 with 1 Axes>"
      ]
     },
     "metadata": {},
     "output_type": "display_data"
    },
    {
     "data": {
      "image/png": "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",
      "text/plain": [
       "<Figure size 640x480 with 1 Axes>"
      ]
     },
     "metadata": {},
     "output_type": "display_data"
    },
    {
     "data": {
      "image/png": "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",
      "text/plain": [
       "<Figure size 640x480 with 1 Axes>"
      ]
     },
     "metadata": {},
     "output_type": "display_data"
    },
    {
     "data": {
      "image/png": "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",
      "text/plain": [
       "<Figure size 640x480 with 1 Axes>"
      ]
     },
     "metadata": {},
     "output_type": "display_data"
    }
   ],
   "source": [
    "for input_feature in dataset.columns:\n",
    "    if input_feature != 'VCD_end':\n",
    "        dataset.plot.scatter(x=input_feature, y='VCD_end')\n",
    "        plt.xlabel(input_feature)\n",
    "        plt.ylabel('VCD_end')\n",
    "        plt.show()"
   ]
  },
  {
   "cell_type": "markdown",
   "metadata": {},
   "source": [
    "## Preprocesamiento de datos\n",
    "### 1 - División o *train-test-validation split*"
   ]
  },
  {
   "cell_type": "markdown",
   "metadata": {},
   "source": [
    "Nuestro objetivo es crear un modelo que generalice bien a los datos no vistos y no simplemente que se ajuste perfectamente a algunos datos vistos. Por este motivo debemos asegurar que al dividir los datos, los conjunto de `test`sea lo más parecido a los datos futuros en los que se quiere aplicar el modelo. \n",
    "\n",
    "En este caso, basta con dividir nuestro `dataset` de forma aleatoria. Sin embargo, hay situaciones más complejas en las que hay que tener cuidado con cómo se hace el reparto. Puedes aprender más sobre el *stratified splitting* [aquí](https://scikit-learn.org/stable/modules/cross_validation.html#stratification)."
   ]
  },
  {
   "cell_type": "code",
   "execution_count": 5,
   "metadata": {},
   "outputs": [],
   "source": [
    "train_ratio = .7\n",
    "test_ratio = .15\n",
    "val_ratio = .15\n",
    "\n",
    "X_train = dataset.sample(frac=train_ratio+val_ratio, random_state=0)\n",
    "X_test = dataset.drop(X_train.index)\n",
    "X_val = X_train.sample(frac=val_ratio/(val_ratio+train_ratio), random_state=0)"
   ]
  },
  {
   "cell_type": "markdown",
   "metadata": {},
   "source": [
    "### 2- Separación inputs y outputs"
   ]
  },
  {
   "cell_type": "code",
   "execution_count": 6,
   "metadata": {},
   "outputs": [],
   "source": [
    "y_train = X_train.pop('VCD_end')\n",
    "y_test = X_test.pop('VCD_end')\n",
    "y_val = X_val.pop('VCD_end')"
   ]
  },
  {
   "cell_type": "markdown",
   "metadata": {},
   "source": [
    "### 3 - Escalado \n",
    "El análisis estadístico ha sido útil para identificar cómo las variables de entrada tienen diferentes escalas, lo cual puede afectar al proceso de entrenamiento, ya que las variables que se mueven en un rango más amplio tienen mayor impacto sobre el modelo.\n",
    "\n",
    "Para evitar que esto ocurra, es recomendable escalar los datos. Para este ejemplo, vamos a utilizar la función `MinMaxScaler` del paquete **sklearn**. Internamente, esta función realiza la siguiente operación:\n",
    "```python\n",
    "X_std = (X - X.min(axis=0)) / (X.max(axis=0) - X.min(axis=0))\n",
    "X_scaled = X_std * (max - min) + min\n",
    "```"
   ]
  },
  {
   "cell_type": "code",
   "execution_count": 7,
   "metadata": {},
   "outputs": [],
   "source": [
    "from sklearn.preprocessing import MinMaxScaler"
   ]
  },
  {
   "cell_type": "markdown",
   "metadata": {},
   "source": [
    "Primero inicializamos nuestra función de escalado y después llamamos al comando `fit` para obtener los parámetros de la función, esto es, los valores mínimo y máximo de cada variable de entrada en el training set."
   ]
  },
  {
   "cell_type": "code",
   "execution_count": 8,
   "metadata": {},
   "outputs": [
    {
     "data": {
      "text/html": [
       "<style>#sk-container-id-1 {\n",
       "  /* Definition of color scheme common for light and dark mode */\n",
       "  --sklearn-color-text: #000;\n",
       "  --sklearn-color-text-muted: #666;\n",
       "  --sklearn-color-line: gray;\n",
       "  /* Definition of color scheme for unfitted estimators */\n",
       "  --sklearn-color-unfitted-level-0: #fff5e6;\n",
       "  --sklearn-color-unfitted-level-1: #f6e4d2;\n",
       "  --sklearn-color-unfitted-level-2: #ffe0b3;\n",
       "  --sklearn-color-unfitted-level-3: chocolate;\n",
       "  /* Definition of color scheme for fitted estimators */\n",
       "  --sklearn-color-fitted-level-0: #f0f8ff;\n",
       "  --sklearn-color-fitted-level-1: #d4ebff;\n",
       "  --sklearn-color-fitted-level-2: #b3dbfd;\n",
       "  --sklearn-color-fitted-level-3: cornflowerblue;\n",
       "\n",
       "  /* Specific color for light theme */\n",
       "  --sklearn-color-text-on-default-background: var(--sg-text-color, var(--theme-code-foreground, var(--jp-content-font-color1, black)));\n",
       "  --sklearn-color-background: var(--sg-background-color, var(--theme-background, var(--jp-layout-color0, white)));\n",
       "  --sklearn-color-border-box: var(--sg-text-color, var(--theme-code-foreground, var(--jp-content-font-color1, black)));\n",
       "  --sklearn-color-icon: #696969;\n",
       "\n",
       "  @media (prefers-color-scheme: dark) {\n",
       "    /* Redefinition of color scheme for dark theme */\n",
       "    --sklearn-color-text-on-default-background: var(--sg-text-color, var(--theme-code-foreground, var(--jp-content-font-color1, white)));\n",
       "    --sklearn-color-background: var(--sg-background-color, var(--theme-background, var(--jp-layout-color0, #111)));\n",
       "    --sklearn-color-border-box: var(--sg-text-color, var(--theme-code-foreground, var(--jp-content-font-color1, white)));\n",
       "    --sklearn-color-icon: #878787;\n",
       "  }\n",
       "}\n",
       "\n",
       "#sk-container-id-1 {\n",
       "  color: var(--sklearn-color-text);\n",
       "}\n",
       "\n",
       "#sk-container-id-1 pre {\n",
       "  padding: 0;\n",
       "}\n",
       "\n",
       "#sk-container-id-1 input.sk-hidden--visually {\n",
       "  border: 0;\n",
       "  clip: rect(1px 1px 1px 1px);\n",
       "  clip: rect(1px, 1px, 1px, 1px);\n",
       "  height: 1px;\n",
       "  margin: -1px;\n",
       "  overflow: hidden;\n",
       "  padding: 0;\n",
       "  position: absolute;\n",
       "  width: 1px;\n",
       "}\n",
       "\n",
       "#sk-container-id-1 div.sk-dashed-wrapped {\n",
       "  border: 1px dashed var(--sklearn-color-line);\n",
       "  margin: 0 0.4em 0.5em 0.4em;\n",
       "  box-sizing: border-box;\n",
       "  padding-bottom: 0.4em;\n",
       "  background-color: var(--sklearn-color-background);\n",
       "}\n",
       "\n",
       "#sk-container-id-1 div.sk-container {\n",
       "  /* jupyter's `normalize.less` sets `[hidden] { display: none; }`\n",
       "     but bootstrap.min.css set `[hidden] { display: none !important; }`\n",
       "     so we also need the `!important` here to be able to override the\n",
       "     default hidden behavior on the sphinx rendered scikit-learn.org.\n",
       "     See: https://github.com/scikit-learn/scikit-learn/issues/21755 */\n",
       "  display: inline-block !important;\n",
       "  position: relative;\n",
       "}\n",
       "\n",
       "#sk-container-id-1 div.sk-text-repr-fallback {\n",
       "  display: none;\n",
       "}\n",
       "\n",
       "div.sk-parallel-item,\n",
       "div.sk-serial,\n",
       "div.sk-item {\n",
       "  /* draw centered vertical line to link estimators */\n",
       "  background-image: linear-gradient(var(--sklearn-color-text-on-default-background), var(--sklearn-color-text-on-default-background));\n",
       "  background-size: 2px 100%;\n",
       "  background-repeat: no-repeat;\n",
       "  background-position: center center;\n",
       "}\n",
       "\n",
       "/* Parallel-specific style estimator block */\n",
       "\n",
       "#sk-container-id-1 div.sk-parallel-item::after {\n",
       "  content: \"\";\n",
       "  width: 100%;\n",
       "  border-bottom: 2px solid var(--sklearn-color-text-on-default-background);\n",
       "  flex-grow: 1;\n",
       "}\n",
       "\n",
       "#sk-container-id-1 div.sk-parallel {\n",
       "  display: flex;\n",
       "  align-items: stretch;\n",
       "  justify-content: center;\n",
       "  background-color: var(--sklearn-color-background);\n",
       "  position: relative;\n",
       "}\n",
       "\n",
       "#sk-container-id-1 div.sk-parallel-item {\n",
       "  display: flex;\n",
       "  flex-direction: column;\n",
       "}\n",
       "\n",
       "#sk-container-id-1 div.sk-parallel-item:first-child::after {\n",
       "  align-self: flex-end;\n",
       "  width: 50%;\n",
       "}\n",
       "\n",
       "#sk-container-id-1 div.sk-parallel-item:last-child::after {\n",
       "  align-self: flex-start;\n",
       "  width: 50%;\n",
       "}\n",
       "\n",
       "#sk-container-id-1 div.sk-parallel-item:only-child::after {\n",
       "  width: 0;\n",
       "}\n",
       "\n",
       "/* Serial-specific style estimator block */\n",
       "\n",
       "#sk-container-id-1 div.sk-serial {\n",
       "  display: flex;\n",
       "  flex-direction: column;\n",
       "  align-items: center;\n",
       "  background-color: var(--sklearn-color-background);\n",
       "  padding-right: 1em;\n",
       "  padding-left: 1em;\n",
       "}\n",
       "\n",
       "\n",
       "/* Toggleable style: style used for estimator/Pipeline/ColumnTransformer box that is\n",
       "clickable and can be expanded/collapsed.\n",
       "- Pipeline and ColumnTransformer use this feature and define the default style\n",
       "- Estimators will overwrite some part of the style using the `sk-estimator` class\n",
       "*/\n",
       "\n",
       "/* Pipeline and ColumnTransformer style (default) */\n",
       "\n",
       "#sk-container-id-1 div.sk-toggleable {\n",
       "  /* Default theme specific background. It is overwritten whether we have a\n",
       "  specific estimator or a Pipeline/ColumnTransformer */\n",
       "  background-color: var(--sklearn-color-background);\n",
       "}\n",
       "\n",
       "/* Toggleable label */\n",
       "#sk-container-id-1 label.sk-toggleable__label {\n",
       "  cursor: pointer;\n",
       "  display: flex;\n",
       "  width: 100%;\n",
       "  margin-bottom: 0;\n",
       "  padding: 0.5em;\n",
       "  box-sizing: border-box;\n",
       "  text-align: center;\n",
       "  align-items: start;\n",
       "  justify-content: space-between;\n",
       "  gap: 0.5em;\n",
       "}\n",
       "\n",
       "#sk-container-id-1 label.sk-toggleable__label .caption {\n",
       "  font-size: 0.6rem;\n",
       "  font-weight: lighter;\n",
       "  color: var(--sklearn-color-text-muted);\n",
       "}\n",
       "\n",
       "#sk-container-id-1 label.sk-toggleable__label-arrow:before {\n",
       "  /* Arrow on the left of the label */\n",
       "  content: \"▸\";\n",
       "  float: left;\n",
       "  margin-right: 0.25em;\n",
       "  color: var(--sklearn-color-icon);\n",
       "}\n",
       "\n",
       "#sk-container-id-1 label.sk-toggleable__label-arrow:hover:before {\n",
       "  color: var(--sklearn-color-text);\n",
       "}\n",
       "\n",
       "/* Toggleable content - dropdown */\n",
       "\n",
       "#sk-container-id-1 div.sk-toggleable__content {\n",
       "  max-height: 0;\n",
       "  max-width: 0;\n",
       "  overflow: hidden;\n",
       "  text-align: left;\n",
       "  /* unfitted */\n",
       "  background-color: var(--sklearn-color-unfitted-level-0);\n",
       "}\n",
       "\n",
       "#sk-container-id-1 div.sk-toggleable__content.fitted {\n",
       "  /* fitted */\n",
       "  background-color: var(--sklearn-color-fitted-level-0);\n",
       "}\n",
       "\n",
       "#sk-container-id-1 div.sk-toggleable__content pre {\n",
       "  margin: 0.2em;\n",
       "  border-radius: 0.25em;\n",
       "  color: var(--sklearn-color-text);\n",
       "  /* unfitted */\n",
       "  background-color: var(--sklearn-color-unfitted-level-0);\n",
       "}\n",
       "\n",
       "#sk-container-id-1 div.sk-toggleable__content.fitted pre {\n",
       "  /* unfitted */\n",
       "  background-color: var(--sklearn-color-fitted-level-0);\n",
       "}\n",
       "\n",
       "#sk-container-id-1 input.sk-toggleable__control:checked~div.sk-toggleable__content {\n",
       "  /* Expand drop-down */\n",
       "  max-height: 200px;\n",
       "  max-width: 100%;\n",
       "  overflow: auto;\n",
       "}\n",
       "\n",
       "#sk-container-id-1 input.sk-toggleable__control:checked~label.sk-toggleable__label-arrow:before {\n",
       "  content: \"▾\";\n",
       "}\n",
       "\n",
       "/* Pipeline/ColumnTransformer-specific style */\n",
       "\n",
       "#sk-container-id-1 div.sk-label input.sk-toggleable__control:checked~label.sk-toggleable__label {\n",
       "  color: var(--sklearn-color-text);\n",
       "  background-color: var(--sklearn-color-unfitted-level-2);\n",
       "}\n",
       "\n",
       "#sk-container-id-1 div.sk-label.fitted input.sk-toggleable__control:checked~label.sk-toggleable__label {\n",
       "  background-color: var(--sklearn-color-fitted-level-2);\n",
       "}\n",
       "\n",
       "/* Estimator-specific style */\n",
       "\n",
       "/* Colorize estimator box */\n",
       "#sk-container-id-1 div.sk-estimator input.sk-toggleable__control:checked~label.sk-toggleable__label {\n",
       "  /* unfitted */\n",
       "  background-color: var(--sklearn-color-unfitted-level-2);\n",
       "}\n",
       "\n",
       "#sk-container-id-1 div.sk-estimator.fitted input.sk-toggleable__control:checked~label.sk-toggleable__label {\n",
       "  /* fitted */\n",
       "  background-color: var(--sklearn-color-fitted-level-2);\n",
       "}\n",
       "\n",
       "#sk-container-id-1 div.sk-label label.sk-toggleable__label,\n",
       "#sk-container-id-1 div.sk-label label {\n",
       "  /* The background is the default theme color */\n",
       "  color: var(--sklearn-color-text-on-default-background);\n",
       "}\n",
       "\n",
       "/* On hover, darken the color of the background */\n",
       "#sk-container-id-1 div.sk-label:hover label.sk-toggleable__label {\n",
       "  color: var(--sklearn-color-text);\n",
       "  background-color: var(--sklearn-color-unfitted-level-2);\n",
       "}\n",
       "\n",
       "/* Label box, darken color on hover, fitted */\n",
       "#sk-container-id-1 div.sk-label.fitted:hover label.sk-toggleable__label.fitted {\n",
       "  color: var(--sklearn-color-text);\n",
       "  background-color: var(--sklearn-color-fitted-level-2);\n",
       "}\n",
       "\n",
       "/* Estimator label */\n",
       "\n",
       "#sk-container-id-1 div.sk-label label {\n",
       "  font-family: monospace;\n",
       "  font-weight: bold;\n",
       "  display: inline-block;\n",
       "  line-height: 1.2em;\n",
       "}\n",
       "\n",
       "#sk-container-id-1 div.sk-label-container {\n",
       "  text-align: center;\n",
       "}\n",
       "\n",
       "/* Estimator-specific */\n",
       "#sk-container-id-1 div.sk-estimator {\n",
       "  font-family: monospace;\n",
       "  border: 1px dotted var(--sklearn-color-border-box);\n",
       "  border-radius: 0.25em;\n",
       "  box-sizing: border-box;\n",
       "  margin-bottom: 0.5em;\n",
       "  /* unfitted */\n",
       "  background-color: var(--sklearn-color-unfitted-level-0);\n",
       "}\n",
       "\n",
       "#sk-container-id-1 div.sk-estimator.fitted {\n",
       "  /* fitted */\n",
       "  background-color: var(--sklearn-color-fitted-level-0);\n",
       "}\n",
       "\n",
       "/* on hover */\n",
       "#sk-container-id-1 div.sk-estimator:hover {\n",
       "  /* unfitted */\n",
       "  background-color: var(--sklearn-color-unfitted-level-2);\n",
       "}\n",
       "\n",
       "#sk-container-id-1 div.sk-estimator.fitted:hover {\n",
       "  /* fitted */\n",
       "  background-color: var(--sklearn-color-fitted-level-2);\n",
       "}\n",
       "\n",
       "/* Specification for estimator info (e.g. \"i\" and \"?\") */\n",
       "\n",
       "/* Common style for \"i\" and \"?\" */\n",
       "\n",
       ".sk-estimator-doc-link,\n",
       "a:link.sk-estimator-doc-link,\n",
       "a:visited.sk-estimator-doc-link {\n",
       "  float: right;\n",
       "  font-size: smaller;\n",
       "  line-height: 1em;\n",
       "  font-family: monospace;\n",
       "  background-color: var(--sklearn-color-background);\n",
       "  border-radius: 1em;\n",
       "  height: 1em;\n",
       "  width: 1em;\n",
       "  text-decoration: none !important;\n",
       "  margin-left: 0.5em;\n",
       "  text-align: center;\n",
       "  /* unfitted */\n",
       "  border: var(--sklearn-color-unfitted-level-1) 1pt solid;\n",
       "  color: var(--sklearn-color-unfitted-level-1);\n",
       "}\n",
       "\n",
       ".sk-estimator-doc-link.fitted,\n",
       "a:link.sk-estimator-doc-link.fitted,\n",
       "a:visited.sk-estimator-doc-link.fitted {\n",
       "  /* fitted */\n",
       "  border: var(--sklearn-color-fitted-level-1) 1pt solid;\n",
       "  color: var(--sklearn-color-fitted-level-1);\n",
       "}\n",
       "\n",
       "/* On hover */\n",
       "div.sk-estimator:hover .sk-estimator-doc-link:hover,\n",
       ".sk-estimator-doc-link:hover,\n",
       "div.sk-label-container:hover .sk-estimator-doc-link:hover,\n",
       ".sk-estimator-doc-link:hover {\n",
       "  /* unfitted */\n",
       "  background-color: var(--sklearn-color-unfitted-level-3);\n",
       "  color: var(--sklearn-color-background);\n",
       "  text-decoration: none;\n",
       "}\n",
       "\n",
       "div.sk-estimator.fitted:hover .sk-estimator-doc-link.fitted:hover,\n",
       ".sk-estimator-doc-link.fitted:hover,\n",
       "div.sk-label-container:hover .sk-estimator-doc-link.fitted:hover,\n",
       ".sk-estimator-doc-link.fitted:hover {\n",
       "  /* fitted */\n",
       "  background-color: var(--sklearn-color-fitted-level-3);\n",
       "  color: var(--sklearn-color-background);\n",
       "  text-decoration: none;\n",
       "}\n",
       "\n",
       "/* Span, style for the box shown on hovering the info icon */\n",
       ".sk-estimator-doc-link span {\n",
       "  display: none;\n",
       "  z-index: 9999;\n",
       "  position: relative;\n",
       "  font-weight: normal;\n",
       "  right: .2ex;\n",
       "  padding: .5ex;\n",
       "  margin: .5ex;\n",
       "  width: min-content;\n",
       "  min-width: 20ex;\n",
       "  max-width: 50ex;\n",
       "  color: var(--sklearn-color-text);\n",
       "  box-shadow: 2pt 2pt 4pt #999;\n",
       "  /* unfitted */\n",
       "  background: var(--sklearn-color-unfitted-level-0);\n",
       "  border: .5pt solid var(--sklearn-color-unfitted-level-3);\n",
       "}\n",
       "\n",
       ".sk-estimator-doc-link.fitted span {\n",
       "  /* fitted */\n",
       "  background: var(--sklearn-color-fitted-level-0);\n",
       "  border: var(--sklearn-color-fitted-level-3);\n",
       "}\n",
       "\n",
       ".sk-estimator-doc-link:hover span {\n",
       "  display: block;\n",
       "}\n",
       "\n",
       "/* \"?\"-specific style due to the `<a>` HTML tag */\n",
       "\n",
       "#sk-container-id-1 a.estimator_doc_link {\n",
       "  float: right;\n",
       "  font-size: 1rem;\n",
       "  line-height: 1em;\n",
       "  font-family: monospace;\n",
       "  background-color: var(--sklearn-color-background);\n",
       "  border-radius: 1rem;\n",
       "  height: 1rem;\n",
       "  width: 1rem;\n",
       "  text-decoration: none;\n",
       "  /* unfitted */\n",
       "  color: var(--sklearn-color-unfitted-level-1);\n",
       "  border: var(--sklearn-color-unfitted-level-1) 1pt solid;\n",
       "}\n",
       "\n",
       "#sk-container-id-1 a.estimator_doc_link.fitted {\n",
       "  /* fitted */\n",
       "  border: var(--sklearn-color-fitted-level-1) 1pt solid;\n",
       "  color: var(--sklearn-color-fitted-level-1);\n",
       "}\n",
       "\n",
       "/* On hover */\n",
       "#sk-container-id-1 a.estimator_doc_link:hover {\n",
       "  /* unfitted */\n",
       "  background-color: var(--sklearn-color-unfitted-level-3);\n",
       "  color: var(--sklearn-color-background);\n",
       "  text-decoration: none;\n",
       "}\n",
       "\n",
       "#sk-container-id-1 a.estimator_doc_link.fitted:hover {\n",
       "  /* fitted */\n",
       "  background-color: var(--sklearn-color-fitted-level-3);\n",
       "}\n",
       "</style><div id=\"sk-container-id-1\" class=\"sk-top-container\"><div class=\"sk-text-repr-fallback\"><pre>MinMaxScaler()</pre><b>In a Jupyter environment, please rerun this cell to show the HTML representation or trust the notebook. <br />On GitHub, the HTML representation is unable to render, please try loading this page with nbviewer.org.</b></div><div class=\"sk-container\" hidden><div class=\"sk-item\"><div class=\"sk-estimator fitted sk-toggleable\"><input class=\"sk-toggleable__control sk-hidden--visually\" id=\"sk-estimator-id-1\" type=\"checkbox\" checked><label for=\"sk-estimator-id-1\" class=\"sk-toggleable__label fitted sk-toggleable__label-arrow\"><div><div>MinMaxScaler</div></div><div><a class=\"sk-estimator-doc-link fitted\" rel=\"noreferrer\" target=\"_blank\" href=\"https://scikit-learn.org/1.6/modules/generated/sklearn.preprocessing.MinMaxScaler.html\">?<span>Documentation for MinMaxScaler</span></a><span class=\"sk-estimator-doc-link fitted\">i<span>Fitted</span></span></div></label><div class=\"sk-toggleable__content fitted\"><pre>MinMaxScaler()</pre></div> </div></div></div></div>"
      ],
      "text/plain": [
       "MinMaxScaler()"
      ]
     },
     "execution_count": 8,
     "metadata": {},
     "output_type": "execute_result"
    }
   ],
   "source": [
    "scaler = MinMaxScaler()\n",
    "scaler.fit(X_train)"
   ]
  },
  {
   "cell_type": "markdown",
   "metadata": {},
   "source": [
    "**Atención:** el escalado no se aplica a los outputs. ([*Should you scale target values in a regression problem?*](https://www.kaggle.com/discussions/questions-and-answers/181908)).\n",
    "\n",
    "A continuación, escalamos los datos."
   ]
  },
  {
   "cell_type": "code",
   "execution_count": 9,
   "metadata": {},
   "outputs": [],
   "source": [
    "X_train_nondim = scaler.transform(X_train)\n",
    "X_test_nondim = scaler.transform(X_test)\n",
    "X_val_nondim = scaler.transform(X_val)"
   ]
  },
  {
   "cell_type": "code",
   "execution_count": 10,
   "metadata": {},
   "outputs": [
    {
     "data": {
      "text/html": [
       "<div>\n",
       "<style scoped>\n",
       "    .dataframe tbody tr th:only-of-type {\n",
       "        vertical-align: middle;\n",
       "    }\n",
       "\n",
       "    .dataframe tbody tr th {\n",
       "        vertical-align: top;\n",
       "    }\n",
       "\n",
       "    .dataframe thead th {\n",
       "        text-align: right;\n",
       "    }\n",
       "</style>\n",
       "<table border=\"1\" class=\"dataframe\">\n",
       "  <thead>\n",
       "    <tr style=\"text-align: right;\">\n",
       "      <th></th>\n",
       "      <th>GLC_start</th>\n",
       "      <th>feed_start</th>\n",
       "      <th>feed_end</th>\n",
       "      <th>feed_rate</th>\n",
       "      <th>VCD_start</th>\n",
       "    </tr>\n",
       "  </thead>\n",
       "  <tbody>\n",
       "    <tr>\n",
       "      <th>count</th>\n",
       "      <td>226.000000</td>\n",
       "      <td>226.000000</td>\n",
       "      <td>226.000000</td>\n",
       "      <td>226.000000</td>\n",
       "      <td>226.000000</td>\n",
       "    </tr>\n",
       "    <tr>\n",
       "      <th>mean</th>\n",
       "      <td>45.723528</td>\n",
       "      <td>2.517699</td>\n",
       "      <td>10.061947</td>\n",
       "      <td>12.618602</td>\n",
       "      <td>0.549109</td>\n",
       "    </tr>\n",
       "    <tr>\n",
       "      <th>std</th>\n",
       "      <td>21.253631</td>\n",
       "      <td>0.989791</td>\n",
       "      <td>1.270403</td>\n",
       "      <td>4.534520</td>\n",
       "      <td>0.274344</td>\n",
       "    </tr>\n",
       "    <tr>\n",
       "      <th>min</th>\n",
       "      <td>10.000000</td>\n",
       "      <td>1.000000</td>\n",
       "      <td>8.000000</td>\n",
       "      <td>5.000000</td>\n",
       "      <td>0.100000</td>\n",
       "    </tr>\n",
       "    <tr>\n",
       "      <th>25%</th>\n",
       "      <td>26.979847</td>\n",
       "      <td>2.000000</td>\n",
       "      <td>9.000000</td>\n",
       "      <td>8.680901</td>\n",
       "      <td>0.309071</td>\n",
       "    </tr>\n",
       "    <tr>\n",
       "      <th>50%</th>\n",
       "      <td>46.344639</td>\n",
       "      <td>3.000000</td>\n",
       "      <td>10.000000</td>\n",
       "      <td>12.760222</td>\n",
       "      <td>0.549694</td>\n",
       "    </tr>\n",
       "    <tr>\n",
       "      <th>75%</th>\n",
       "      <td>64.032121</td>\n",
       "      <td>3.000000</td>\n",
       "      <td>11.000000</td>\n",
       "      <td>16.536704</td>\n",
       "      <td>0.788639</td>\n",
       "    </tr>\n",
       "    <tr>\n",
       "      <th>max</th>\n",
       "      <td>80.000000</td>\n",
       "      <td>4.000000</td>\n",
       "      <td>12.000000</td>\n",
       "      <td>20.000000</td>\n",
       "      <td>1.000000</td>\n",
       "    </tr>\n",
       "  </tbody>\n",
       "</table>\n",
       "</div>"
      ],
      "text/plain": [
       "        GLC_start  feed_start    feed_end   feed_rate   VCD_start\n",
       "count  226.000000  226.000000  226.000000  226.000000  226.000000\n",
       "mean    45.723528    2.517699   10.061947   12.618602    0.549109\n",
       "std     21.253631    0.989791    1.270403    4.534520    0.274344\n",
       "min     10.000000    1.000000    8.000000    5.000000    0.100000\n",
       "25%     26.979847    2.000000    9.000000    8.680901    0.309071\n",
       "50%     46.344639    3.000000   10.000000   12.760222    0.549694\n",
       "75%     64.032121    3.000000   11.000000   16.536704    0.788639\n",
       "max     80.000000    4.000000   12.000000   20.000000    1.000000"
      ]
     },
     "execution_count": 10,
     "metadata": {},
     "output_type": "execute_result"
    }
   ],
   "source": [
    "X_train.describe()"
   ]
  },
  {
   "cell_type": "markdown",
   "metadata": {},
   "source": [
    "#### Ejercicio - leer la documentación\n",
    "Para aprender sobre *machine learning* o programación en general, es fundamental saber manejarse con la documentación de las diferentes herramientas y extraer la información que nos interesa.\n",
    "\n",
    "Visita la [web de sklearn](https://scikit-learn.org/stable/modules/generated/sklearn.preprocessing.MinMaxScaler.html#sklearn.preprocessing.MinMaxScaler) y contesta la siguiente pregunta:\n",
    "- ¿Cuáles son los valores de `X.min` y `X.max` que se utilizan ara escalar los datos?"
   ]
  },
  {
   "cell_type": "code",
   "execution_count": 11,
   "metadata": {},
   "outputs": [
    {
     "ename": "NameError",
     "evalue": "name 'min_values' is not defined",
     "output_type": "error",
     "traceback": [
      "\u001b[1;31m---------------------------------------------------------------------------\u001b[0m",
      "\u001b[1;31mNameError\u001b[0m                                 Traceback (most recent call last)",
      "Cell \u001b[1;32mIn[11], line 7\u001b[0m\n\u001b[0;32m      1\u001b[0m \u001b[38;5;66;03m# Completa con tu código aquí\u001b[39;00m\n\u001b[0;32m      2\u001b[0m \u001b[38;5;66;03m# min_values = \u001b[39;00m\n\u001b[0;32m      3\u001b[0m \u001b[38;5;66;03m# max_values = \u001b[39;00m\n\u001b[0;32m      4\u001b[0m \n\u001b[0;32m      5\u001b[0m \u001b[38;5;66;03m# print('Los valores mínimos y máximos para cada variable son:')\u001b[39;00m\n\u001b[0;32m      6\u001b[0m \u001b[38;5;28;01mfor\u001b[39;00m i, col \u001b[38;5;129;01min\u001b[39;00m \u001b[38;5;28menumerate\u001b[39m(X_train\u001b[38;5;241m.\u001b[39mcolumns):\n\u001b[1;32m----> 7\u001b[0m     \u001b[38;5;28mprint\u001b[39m(\u001b[38;5;124mf\u001b[39m\u001b[38;5;124m'\u001b[39m\u001b[38;5;132;01m{\u001b[39;00mcol\u001b[38;5;132;01m}\u001b[39;00m\u001b[38;5;124m: \u001b[39m\u001b[38;5;132;01m{\u001b[39;00m\u001b[43mmin_values\u001b[49m[i]\u001b[38;5;132;01m}\u001b[39;00m\u001b[38;5;124m - \u001b[39m\u001b[38;5;132;01m{\u001b[39;00mmax_values[i]\u001b[38;5;132;01m}\u001b[39;00m\u001b[38;5;124m'\u001b[39m)\n",
      "\u001b[1;31mNameError\u001b[0m: name 'min_values' is not defined"
     ]
    }
   ],
   "source": [
    "# Completa con tu código aquí\n",
    "# min_values = \n",
    "# max_values = \n",
    "\n",
    "# print('Los valores mínimos y máximos para cada variable son:')\n",
    "for i, col in enumerate(X_train.columns):\n",
    "    print(f'{col}: {min_values[i]} - {max_values[i]}')"
   ]
  },
  {
   "cell_type": "markdown",
   "metadata": {},
   "source": [
    "Es importante conocer qué valores se han utilizado para hacer el escalado de los datos de entrenamiento porque luego deberán aplicarse los mismos a cualquier otro dato que se alimente al modelo."
   ]
  },
  {
   "cell_type": "markdown",
   "metadata": {},
   "source": [
    "## Modelo"
   ]
  },
  {
   "cell_type": "markdown",
   "metadata": {},
   "source": [
    "### 1 - Definición del modelo\n",
    "Aquí vamos a utilizar un modelo secuencial con 3 capas internas con 128, 64 y 32 neuronas, respectivamente, seguidas de una capa de salida que devuelve un único valor, el de la concentración de VCD al final del experimento. Para las capas internas, aplica funciones de activación tipo ReLU. En problemas de regresión, no suele aplicarse ninguna función de activación en la *output layer*.\n",
    "\n",
    "Aunque no es estrictamente necesario, vamos a agrupar todos los pasos de la construcción del modelo como una función (se llamará `build_model`)."
   ]
  },
  {
   "cell_type": "code",
   "execution_count": 12,
   "metadata": {},
   "outputs": [],
   "source": [
    "num_inputs = X_train.shape[1]\n",
    "num_hidden_neurons = [128, 64, 32]\n",
    "num_outputs = 1\n",
    "\n",
    "EPOCHS = 200\n",
    "BATCH_SIZE = 10\n",
    "N_TRAIN = X_train.shape[0]\n",
    "STEPS_PER_EPOCH = N_TRAIN // BATCH_SIZE\n",
    "\n",
    "initial_learning_rate = 0.01"
   ]
  },
  {
   "cell_type": "markdown",
   "metadata": {},
   "source": [
    "La mayoría de modelos convergen mejor cuando se disminuye el *learning rate* de forma gradual durante el entrenamiento. \n",
    "\n",
    "Para modular cómo varía el *learning rate* se utilizan funciones llamadas *learning rate schedules*. Existen diversos *schedules* ya implementados en TensorFloW, entre los que vamos a utilizar [InverseTimeDecay](https://www.tensorflow.org/api_docs/python/tf/keras/optimizers/schedules/InverseTimeDecay).\n"
   ]
  },
  {
   "cell_type": "code",
   "execution_count": 13,
   "metadata": {},
   "outputs": [],
   "source": [
    "lr_schedule = keras.optimizers.schedules.InverseTimeDecay(\n",
    "    initial_learning_rate,\n",
    "    decay_steps=STEPS_PER_EPOCH*50,\n",
    "    decay_rate=1,\n",
    "    staircase=True)"
   ]
  },
  {
   "cell_type": "markdown",
   "metadata": {},
   "source": [
    "El código de arriba crea un `tf.keras.optimizers.schedules.InverseTimeDecay` para disminuir el *learning rate* a la mitad pasadas las primeras 50 épocas, 1/3 a las 100, etc."
   ]
  },
  {
   "cell_type": "code",
   "execution_count": 26,
   "metadata": {},
   "outputs": [
    {
     "data": {
      "image/png": "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",
      "text/plain": [
       "<Figure size 800x600 with 1 Axes>"
      ]
     },
     "metadata": {},
     "output_type": "display_data"
    }
   ],
   "source": [
    "step = np.linspace(0,EPOCHS*STEPS_PER_EPOCH)\n",
    "lr = lr_schedule(step)\n",
    "plt.figure(figsize = (8,6))\n",
    "plt.plot(step/STEPS_PER_EPOCH, lr)\n",
    "plt.ylim([0,max(plt.ylim())])\n",
    "plt.xlabel('Epoch')\n",
    "_ = plt.ylabel('Learning Rate')"
   ]
  },
  {
   "cell_type": "code",
   "execution_count": null,
   "metadata": {},
   "outputs": [],
   "source": [
    "def build_model(num_hidden_neurons, lr):\n",
    "    layers_list = []\n",
    "    layers_list.append(layers.InputLayer(shape=[len(X_train.columns)],\n",
    "                                         name = 'INPUT'))\n",
    "    for i in range(len(num_hidden_neurons)):\n",
    "        layers_list.append(layers.Dense(num_hidden_neurons[i], \n",
    "                                        activation='relu', \n",
    "                                        kernel_initializer='he_normal', \n",
    "                                        name = f'HIDDEN_{i}'))\n",
    "    layers_list.append(layers.Dense(num_outputs, \n",
    "                        activation = 'linear', \n",
    "                        name = 'OUTPUT'))\n",
    "\n",
    "    model = keras.Sequential(layers_list)\n",
    "    \n",
    "    optimizer = tf.keras.optimizers.Adam(lr)\n",
    "\n",
    "    model.compile(  loss='mse',\n",
    "                    optimizer=optimizer,\n",
    "                    metrics=['mae', 'mse'])\n",
    "    return model"
   ]
  },
  {
   "cell_type": "markdown",
   "metadata": {},
   "source": [
    "Una vez construido, el método `summary` permite inspeccionar el modelo."
   ]
  },
  {
   "cell_type": "code",
   "execution_count": 17,
   "metadata": {},
   "outputs": [
    {
     "data": {
      "text/html": [
       "<pre style=\"white-space:pre;overflow-x:auto;line-height:normal;font-family:Menlo,'DejaVu Sans Mono',consolas,'Courier New',monospace\"><span style=\"font-weight: bold\">Model: \"sequential\"</span>\n",
       "</pre>\n"
      ],
      "text/plain": [
       "\u001b[1mModel: \"sequential\"\u001b[0m\n"
      ]
     },
     "metadata": {},
     "output_type": "display_data"
    },
    {
     "data": {
      "text/html": [
       "<pre style=\"white-space:pre;overflow-x:auto;line-height:normal;font-family:Menlo,'DejaVu Sans Mono',consolas,'Courier New',monospace\">┏━━━━━━━━━━━━━━━━━━━━━━━━━━━━━━━━━┳━━━━━━━━━━━━━━━━━━━━━━━━┳━━━━━━━━━━━━━━━┓\n",
       "┃<span style=\"font-weight: bold\"> Layer (type)                    </span>┃<span style=\"font-weight: bold\"> Output Shape           </span>┃<span style=\"font-weight: bold\">       Param # </span>┃\n",
       "┡━━━━━━━━━━━━━━━━━━━━━━━━━━━━━━━━━╇━━━━━━━━━━━━━━━━━━━━━━━━╇━━━━━━━━━━━━━━━┩\n",
       "│ HIDDEN_0 (<span style=\"color: #0087ff; text-decoration-color: #0087ff\">Dense</span>)                │ (<span style=\"color: #00d7ff; text-decoration-color: #00d7ff\">None</span>, <span style=\"color: #00af00; text-decoration-color: #00af00\">128</span>)            │           <span style=\"color: #00af00; text-decoration-color: #00af00\">768</span> │\n",
       "├─────────────────────────────────┼────────────────────────┼───────────────┤\n",
       "│ HIDDEN_1 (<span style=\"color: #0087ff; text-decoration-color: #0087ff\">Dense</span>)                │ (<span style=\"color: #00d7ff; text-decoration-color: #00d7ff\">None</span>, <span style=\"color: #00af00; text-decoration-color: #00af00\">64</span>)             │         <span style=\"color: #00af00; text-decoration-color: #00af00\">8,256</span> │\n",
       "├─────────────────────────────────┼────────────────────────┼───────────────┤\n",
       "│ HIDDEN_2 (<span style=\"color: #0087ff; text-decoration-color: #0087ff\">Dense</span>)                │ (<span style=\"color: #00d7ff; text-decoration-color: #00d7ff\">None</span>, <span style=\"color: #00af00; text-decoration-color: #00af00\">32</span>)             │         <span style=\"color: #00af00; text-decoration-color: #00af00\">2,080</span> │\n",
       "├─────────────────────────────────┼────────────────────────┼───────────────┤\n",
       "│ OUTPUT (<span style=\"color: #0087ff; text-decoration-color: #0087ff\">Dense</span>)                  │ (<span style=\"color: #00d7ff; text-decoration-color: #00d7ff\">None</span>, <span style=\"color: #00af00; text-decoration-color: #00af00\">1</span>)              │            <span style=\"color: #00af00; text-decoration-color: #00af00\">33</span> │\n",
       "└─────────────────────────────────┴────────────────────────┴───────────────┘\n",
       "</pre>\n"
      ],
      "text/plain": [
       "┏━━━━━━━━━━━━━━━━━━━━━━━━━━━━━━━━━┳━━━━━━━━━━━━━━━━━━━━━━━━┳━━━━━━━━━━━━━━━┓\n",
       "┃\u001b[1m \u001b[0m\u001b[1mLayer (type)                   \u001b[0m\u001b[1m \u001b[0m┃\u001b[1m \u001b[0m\u001b[1mOutput Shape          \u001b[0m\u001b[1m \u001b[0m┃\u001b[1m \u001b[0m\u001b[1m      Param #\u001b[0m\u001b[1m \u001b[0m┃\n",
       "┡━━━━━━━━━━━━━━━━━━━━━━━━━━━━━━━━━╇━━━━━━━━━━━━━━━━━━━━━━━━╇━━━━━━━━━━━━━━━┩\n",
       "│ HIDDEN_0 (\u001b[38;5;33mDense\u001b[0m)                │ (\u001b[38;5;45mNone\u001b[0m, \u001b[38;5;34m128\u001b[0m)            │           \u001b[38;5;34m768\u001b[0m │\n",
       "├─────────────────────────────────┼────────────────────────┼───────────────┤\n",
       "│ HIDDEN_1 (\u001b[38;5;33mDense\u001b[0m)                │ (\u001b[38;5;45mNone\u001b[0m, \u001b[38;5;34m64\u001b[0m)             │         \u001b[38;5;34m8,256\u001b[0m │\n",
       "├─────────────────────────────────┼────────────────────────┼───────────────┤\n",
       "│ HIDDEN_2 (\u001b[38;5;33mDense\u001b[0m)                │ (\u001b[38;5;45mNone\u001b[0m, \u001b[38;5;34m32\u001b[0m)             │         \u001b[38;5;34m2,080\u001b[0m │\n",
       "├─────────────────────────────────┼────────────────────────┼───────────────┤\n",
       "│ OUTPUT (\u001b[38;5;33mDense\u001b[0m)                  │ (\u001b[38;5;45mNone\u001b[0m, \u001b[38;5;34m1\u001b[0m)              │            \u001b[38;5;34m33\u001b[0m │\n",
       "└─────────────────────────────────┴────────────────────────┴───────────────┘\n"
      ]
     },
     "metadata": {},
     "output_type": "display_data"
    },
    {
     "data": {
      "text/html": [
       "<pre style=\"white-space:pre;overflow-x:auto;line-height:normal;font-family:Menlo,'DejaVu Sans Mono',consolas,'Courier New',monospace\"><span style=\"font-weight: bold\"> Total params: </span><span style=\"color: #00af00; text-decoration-color: #00af00\">11,137</span> (43.50 KB)\n",
       "</pre>\n"
      ],
      "text/plain": [
       "\u001b[1m Total params: \u001b[0m\u001b[38;5;34m11,137\u001b[0m (43.50 KB)\n"
      ]
     },
     "metadata": {},
     "output_type": "display_data"
    },
    {
     "data": {
      "text/html": [
       "<pre style=\"white-space:pre;overflow-x:auto;line-height:normal;font-family:Menlo,'DejaVu Sans Mono',consolas,'Courier New',monospace\"><span style=\"font-weight: bold\"> Trainable params: </span><span style=\"color: #00af00; text-decoration-color: #00af00\">11,137</span> (43.50 KB)\n",
       "</pre>\n"
      ],
      "text/plain": [
       "\u001b[1m Trainable params: \u001b[0m\u001b[38;5;34m11,137\u001b[0m (43.50 KB)\n"
      ]
     },
     "metadata": {},
     "output_type": "display_data"
    },
    {
     "data": {
      "text/html": [
       "<pre style=\"white-space:pre;overflow-x:auto;line-height:normal;font-family:Menlo,'DejaVu Sans Mono',consolas,'Courier New',monospace\"><span style=\"font-weight: bold\"> Non-trainable params: </span><span style=\"color: #00af00; text-decoration-color: #00af00\">0</span> (0.00 B)\n",
       "</pre>\n"
      ],
      "text/plain": [
       "\u001b[1m Non-trainable params: \u001b[0m\u001b[38;5;34m0\u001b[0m (0.00 B)\n"
      ]
     },
     "metadata": {},
     "output_type": "display_data"
    }
   ],
   "source": [
    "model = build_model(num_hidden_neurons, lr_schedule)\n",
    "model.summary()"
   ]
  },
  {
   "cell_type": "markdown",
   "metadata": {},
   "source": [
    "Teóricamente, ya podríamos utilizar el modelo para hacer predicciones."
   ]
  },
  {
   "cell_type": "code",
   "execution_count": 18,
   "metadata": {},
   "outputs": [
    {
     "name": "stdout",
     "output_type": "stream",
     "text": [
      "\u001b[1m1/1\u001b[0m \u001b[32m━━━━━━━━━━━━━━━━━━━━\u001b[0m\u001b[37m\u001b[0m \u001b[1m0s\u001b[0m 142ms/step\n",
      "   Real Values  Predicted Values\n",
      "0        615.0          0.148152\n",
      "1        302.0          0.481558\n",
      "2       1520.0          0.217131\n",
      "3        645.0          0.249683\n",
      "4        440.0          0.055002\n",
      "5       1390.0         -0.315154\n",
      "6       1230.0          0.147351\n",
      "7       1460.0          0.066127\n",
      "8        560.0         -0.228615\n",
      "9       1470.0         -0.202789\n"
     ]
    }
   ],
   "source": [
    "example_batch = X_train_nondim[:10]\n",
    "example_result = model.predict(example_batch)\n",
    "\n",
    "results_df = pd.DataFrame({\n",
    "    'Real Values': y_train[:10].values,\n",
    "    'Predicted Values': example_result.flatten()\n",
    "})\n",
    "print(results_df)"
   ]
  },
  {
   "cell_type": "markdown",
   "metadata": {},
   "source": [
    "### 2 - Entrenamiento\n",
    "Aunque el modelo parece funcionar y da un resultado de la forma y tipo esperados, las predicciones no se ajustan a los valores esperados. Esto se debe a que todavía no está entrenado, es decir, hay que optimizar los valors de los pesos o `weights` de la red neuronal.\n",
    "\n",
    "Entrena el modelo durante 200 épocas y representa la curva de entrenamiento."
   ]
  },
  {
   "cell_type": "code",
   "execution_count": 19,
   "metadata": {},
   "outputs": [
    {
     "name": "stdout",
     "output_type": "stream",
     "text": [
      "Epoch 1/200\n"
     ]
    },
    {
     "name": "stdout",
     "output_type": "stream",
     "text": [
      "\u001b[1m23/23\u001b[0m \u001b[32m━━━━━━━━━━━━━━━━━━━━\u001b[0m\u001b[37m\u001b[0m \u001b[1m4s\u001b[0m 27ms/step - loss: 1188963.5000 - mae: 1021.8858 - mse: 1188963.5000 - val_loss: 160255.9375 - val_mae: 361.7950 - val_mse: 160255.9375\n",
      "Epoch 2/200\n",
      "\u001b[1m23/23\u001b[0m \u001b[32m━━━━━━━━━━━━━━━━━━━━\u001b[0m\u001b[37m\u001b[0m \u001b[1m0s\u001b[0m 7ms/step - loss: 172642.7500 - mae: 339.1099 - mse: 172642.7500 - val_loss: 151435.8125 - val_mae: 353.4494 - val_mse: 151435.8125\n",
      "Epoch 3/200\n",
      "\u001b[1m23/23\u001b[0m \u001b[32m━━━━━━━━━━━━━━━━━━━━\u001b[0m\u001b[37m\u001b[0m \u001b[1m0s\u001b[0m 9ms/step - loss: 122522.5000 - mae: 301.6949 - mse: 122522.5000 - val_loss: 146257.1250 - val_mae: 348.8176 - val_mse: 146257.1250\n",
      "Epoch 4/200\n",
      "\u001b[1m23/23\u001b[0m \u001b[32m━━━━━━━━━━━━━━━━━━━━\u001b[0m\u001b[37m\u001b[0m \u001b[1m0s\u001b[0m 11ms/step - loss: 121108.9453 - mae: 301.5794 - mse: 121108.9453 - val_loss: 151777.1250 - val_mae: 352.1352 - val_mse: 151777.1406\n",
      "Epoch 5/200\n",
      "\u001b[1m23/23\u001b[0m \u001b[32m━━━━━━━━━━━━━━━━━━━━\u001b[0m\u001b[37m\u001b[0m \u001b[1m0s\u001b[0m 11ms/step - loss: 134222.8438 - mae: 314.5744 - mse: 134222.8438 - val_loss: 152270.2500 - val_mae: 350.8058 - val_mse: 152270.2500\n",
      "Epoch 6/200\n",
      "\u001b[1m23/23\u001b[0m \u001b[32m━━━━━━━━━━━━━━━━━━━━\u001b[0m\u001b[37m\u001b[0m \u001b[1m0s\u001b[0m 8ms/step - loss: 124258.0078 - mae: 296.2102 - mse: 124258.0078 - val_loss: 128728.9531 - val_mae: 328.6572 - val_mse: 128728.9531\n",
      "Epoch 7/200\n",
      "\u001b[1m23/23\u001b[0m \u001b[32m━━━━━━━━━━━━━━━━━━━━\u001b[0m\u001b[37m\u001b[0m \u001b[1m0s\u001b[0m 11ms/step - loss: 111972.4688 - mae: 288.9673 - mse: 111972.4688 - val_loss: 119096.1875 - val_mae: 306.4699 - val_mse: 119096.1875\n",
      "Epoch 8/200\n",
      "\u001b[1m23/23\u001b[0m \u001b[32m━━━━━━━━━━━━━━━━━━━━\u001b[0m\u001b[37m\u001b[0m \u001b[1m0s\u001b[0m 8ms/step - loss: 105700.7578 - mae: 280.7060 - mse: 105700.7578 - val_loss: 102185.0625 - val_mae: 287.5141 - val_mse: 102185.0469\n",
      "Epoch 9/200\n",
      "\u001b[1m23/23\u001b[0m \u001b[32m━━━━━━━━━━━━━━━━━━━━\u001b[0m\u001b[37m\u001b[0m \u001b[1m0s\u001b[0m 8ms/step - loss: 95010.0312 - mae: 262.0765 - mse: 95010.0234 - val_loss: 89801.4531 - val_mae: 254.2372 - val_mse: 89801.4531\n",
      "Epoch 10/200\n",
      "\u001b[1m23/23\u001b[0m \u001b[32m━━━━━━━━━━━━━━━━━━━━\u001b[0m\u001b[37m\u001b[0m \u001b[1m0s\u001b[0m 7ms/step - loss: 66448.8438 - mae: 216.8179 - mse: 66448.8438 - val_loss: 79948.2344 - val_mae: 231.1024 - val_mse: 79948.2344\n",
      "Epoch 11/200\n",
      "\u001b[1m23/23\u001b[0m \u001b[32m━━━━━━━━━━━━━━━━━━━━\u001b[0m\u001b[37m\u001b[0m \u001b[1m0s\u001b[0m 10ms/step - loss: 54490.0508 - mae: 192.9967 - mse: 54490.0508 - val_loss: 57158.6562 - val_mae: 198.7054 - val_mse: 57158.6562\n",
      "Epoch 12/200\n",
      "\u001b[1m23/23\u001b[0m \u001b[32m━━━━━━━━━━━━━━━━━━━━\u001b[0m\u001b[37m\u001b[0m \u001b[1m0s\u001b[0m 8ms/step - loss: 52248.8672 - mae: 191.9959 - mse: 52248.8672 - val_loss: 44606.0352 - val_mae: 166.6262 - val_mse: 44606.0352\n",
      "Epoch 13/200\n",
      "\u001b[1m23/23\u001b[0m \u001b[32m━━━━━━━━━━━━━━━━━━━━\u001b[0m\u001b[37m\u001b[0m \u001b[1m0s\u001b[0m 10ms/step - loss: 47665.3125 - mae: 171.7968 - mse: 47665.3125 - val_loss: 38310.9297 - val_mae: 154.3844 - val_mse: 38310.9297\n",
      "Epoch 14/200\n",
      "\u001b[1m23/23\u001b[0m \u001b[32m━━━━━━━━━━━━━━━━━━━━\u001b[0m\u001b[37m\u001b[0m \u001b[1m0s\u001b[0m 8ms/step - loss: 39438.0586 - mae: 152.0222 - mse: 39438.0586 - val_loss: 33103.3828 - val_mae: 147.2576 - val_mse: 33103.3828\n",
      "Epoch 15/200\n",
      "\u001b[1m23/23\u001b[0m \u001b[32m━━━━━━━━━━━━━━━━━━━━\u001b[0m\u001b[37m\u001b[0m \u001b[1m0s\u001b[0m 8ms/step - loss: 31885.1426 - mae: 143.9121 - mse: 31885.1426 - val_loss: 38932.3008 - val_mae: 164.9501 - val_mse: 38932.3008\n",
      "Epoch 16/200\n",
      "\u001b[1m23/23\u001b[0m \u001b[32m━━━━━━━━━━━━━━━━━━━━\u001b[0m\u001b[37m\u001b[0m \u001b[1m0s\u001b[0m 7ms/step - loss: 33715.3477 - mae: 150.1682 - mse: 33715.3477 - val_loss: 25647.2578 - val_mae: 121.6753 - val_mse: 25647.2578\n",
      "Epoch 17/200\n",
      "\u001b[1m23/23\u001b[0m \u001b[32m━━━━━━━━━━━━━━━━━━━━\u001b[0m\u001b[37m\u001b[0m \u001b[1m0s\u001b[0m 7ms/step - loss: 34796.6992 - mae: 152.4401 - mse: 34796.6992 - val_loss: 25225.2305 - val_mae: 131.3696 - val_mse: 25225.2305\n",
      "Epoch 18/200\n",
      "\u001b[1m23/23\u001b[0m \u001b[32m━━━━━━━━━━━━━━━━━━━━\u001b[0m\u001b[37m\u001b[0m \u001b[1m0s\u001b[0m 7ms/step - loss: 22996.6211 - mae: 122.7941 - mse: 22996.6211 - val_loss: 25173.0879 - val_mae: 133.5014 - val_mse: 25173.0879\n",
      "Epoch 19/200\n",
      "\u001b[1m23/23\u001b[0m \u001b[32m━━━━━━━━━━━━━━━━━━━━\u001b[0m\u001b[37m\u001b[0m \u001b[1m0s\u001b[0m 7ms/step - loss: 19016.0762 - mae: 116.8418 - mse: 19016.0762 - val_loss: 16032.8408 - val_mae: 103.6517 - val_mse: 16032.8408\n",
      "Epoch 20/200\n",
      "\u001b[1m23/23\u001b[0m \u001b[32m━━━━━━━━━━━━━━━━━━━━\u001b[0m\u001b[37m\u001b[0m \u001b[1m0s\u001b[0m 13ms/step - loss: 19496.4453 - mae: 111.3751 - mse: 19496.4453 - val_loss: 14346.8906 - val_mae: 97.8169 - val_mse: 14346.8906\n",
      "Epoch 21/200\n",
      "\u001b[1m23/23\u001b[0m \u001b[32m━━━━━━━━━━━━━━━━━━━━\u001b[0m\u001b[37m\u001b[0m \u001b[1m1s\u001b[0m 8ms/step - loss: 20828.4258 - mae: 119.0888 - mse: 20828.4258 - val_loss: 19742.9277 - val_mae: 117.5155 - val_mse: 19742.9277\n",
      "Epoch 22/200\n",
      "\u001b[1m23/23\u001b[0m \u001b[32m━━━━━━━━━━━━━━━━━━━━\u001b[0m\u001b[37m\u001b[0m \u001b[1m0s\u001b[0m 7ms/step - loss: 15445.0439 - mae: 98.3146 - mse: 15445.0439 - val_loss: 11336.4219 - val_mae: 86.8976 - val_mse: 11336.4219\n",
      "Epoch 23/200\n",
      "\u001b[1m23/23\u001b[0m \u001b[32m━━━━━━━━━━━━━━━━━━━━\u001b[0m\u001b[37m\u001b[0m \u001b[1m0s\u001b[0m 8ms/step - loss: 17124.4473 - mae: 106.4313 - mse: 17124.4473 - val_loss: 11495.6758 - val_mae: 83.1188 - val_mse: 11495.6758\n",
      "Epoch 24/200\n",
      "\u001b[1m23/23\u001b[0m \u001b[32m━━━━━━━━━━━━━━━━━━━━\u001b[0m\u001b[37m\u001b[0m \u001b[1m0s\u001b[0m 7ms/step - loss: 15235.5391 - mae: 99.8504 - mse: 15235.5391 - val_loss: 14271.3799 - val_mae: 98.6414 - val_mse: 14271.3799\n",
      "Epoch 25/200\n",
      "\u001b[1m23/23\u001b[0m \u001b[32m━━━━━━━━━━━━━━━━━━━━\u001b[0m\u001b[37m\u001b[0m \u001b[1m0s\u001b[0m 8ms/step - loss: 13719.2246 - mae: 93.0246 - mse: 13719.2246 - val_loss: 9169.7734 - val_mae: 79.4905 - val_mse: 9169.7734\n",
      "Epoch 26/200\n",
      "\u001b[1m23/23\u001b[0m \u001b[32m━━━━━━━━━━━━━━━━━━━━\u001b[0m\u001b[37m\u001b[0m \u001b[1m0s\u001b[0m 7ms/step - loss: 9999.1016 - mae: 80.3420 - mse: 9999.1016 - val_loss: 8710.7891 - val_mae: 79.1240 - val_mse: 8710.7891\n",
      "Epoch 27/200\n",
      "\u001b[1m23/23\u001b[0m \u001b[32m━━━━━━━━━━━━━━━━━━━━\u001b[0m\u001b[37m\u001b[0m \u001b[1m0s\u001b[0m 8ms/step - loss: 10781.7490 - mae: 84.1362 - mse: 10781.7490 - val_loss: 7354.5713 - val_mae: 72.2509 - val_mse: 7354.5713\n",
      "Epoch 28/200\n",
      "\u001b[1m23/23\u001b[0m \u001b[32m━━━━━━━━━━━━━━━━━━━━\u001b[0m\u001b[37m\u001b[0m \u001b[1m0s\u001b[0m 8ms/step - loss: 12129.5020 - mae: 89.9228 - mse: 12129.5020 - val_loss: 12033.0186 - val_mae: 91.2053 - val_mse: 12033.0186\n",
      "Epoch 29/200\n",
      "\u001b[1m23/23\u001b[0m \u001b[32m━━━━━━━━━━━━━━━━━━━━\u001b[0m\u001b[37m\u001b[0m \u001b[1m0s\u001b[0m 8ms/step - loss: 12553.3242 - mae: 90.4460 - mse: 12553.3242 - val_loss: 10863.7627 - val_mae: 82.0810 - val_mse: 10863.7627\n",
      "Epoch 30/200\n",
      "\u001b[1m23/23\u001b[0m \u001b[32m━━━━━━━━━━━━━━━━━━━━\u001b[0m\u001b[37m\u001b[0m \u001b[1m0s\u001b[0m 8ms/step - loss: 8466.2207 - mae: 75.1937 - mse: 8466.2207 - val_loss: 6398.7397 - val_mae: 67.3522 - val_mse: 6398.7397\n",
      "Epoch 31/200\n",
      "\u001b[1m23/23\u001b[0m \u001b[32m━━━━━━━━━━━━━━━━━━━━\u001b[0m\u001b[37m\u001b[0m \u001b[1m0s\u001b[0m 7ms/step - loss: 8973.8047 - mae: 76.4671 - mse: 8973.8047 - val_loss: 16155.7998 - val_mae: 109.3826 - val_mse: 16155.7998\n",
      "Epoch 32/200\n",
      "\u001b[1m23/23\u001b[0m \u001b[32m━━━━━━━━━━━━━━━━━━━━\u001b[0m\u001b[37m\u001b[0m \u001b[1m0s\u001b[0m 7ms/step - loss: 10086.2705 - mae: 76.2355 - mse: 10086.2715 - val_loss: 12464.8613 - val_mae: 93.7040 - val_mse: 12464.8613\n",
      "Epoch 33/200\n",
      "\u001b[1m23/23\u001b[0m \u001b[32m━━━━━━━━━━━━━━━━━━━━\u001b[0m\u001b[37m\u001b[0m \u001b[1m0s\u001b[0m 7ms/step - loss: 8856.7148 - mae: 77.7472 - mse: 8856.7148 - val_loss: 12194.5264 - val_mae: 92.8382 - val_mse: 12194.5264\n",
      "Epoch 34/200\n",
      "\u001b[1m23/23\u001b[0m \u001b[32m━━━━━━━━━━━━━━━━━━━━\u001b[0m\u001b[37m\u001b[0m \u001b[1m0s\u001b[0m 8ms/step - loss: 9676.6943 - mae: 78.6355 - mse: 9676.6943 - val_loss: 15905.2607 - val_mae: 107.5884 - val_mse: 15905.2598\n",
      "Epoch 35/200\n",
      "\u001b[1m23/23\u001b[0m \u001b[32m━━━━━━━━━━━━━━━━━━━━\u001b[0m\u001b[37m\u001b[0m \u001b[1m0s\u001b[0m 8ms/step - loss: 8972.7461 - mae: 76.9650 - mse: 8972.7461 - val_loss: 7337.1748 - val_mae: 70.3820 - val_mse: 7337.1748\n",
      "Epoch 36/200\n",
      "\u001b[1m23/23\u001b[0m \u001b[32m━━━━━━━━━━━━━━━━━━━━\u001b[0m\u001b[37m\u001b[0m \u001b[1m0s\u001b[0m 8ms/step - loss: 7015.5396 - mae: 69.7762 - mse: 7015.5396 - val_loss: 10949.2607 - val_mae: 88.8510 - val_mse: 10949.2607\n",
      "Epoch 37/200\n",
      "\u001b[1m23/23\u001b[0m \u001b[32m━━━━━━━━━━━━━━━━━━━━\u001b[0m\u001b[37m\u001b[0m \u001b[1m0s\u001b[0m 8ms/step - loss: 6230.3071 - mae: 63.2876 - mse: 6230.3071 - val_loss: 6368.3550 - val_mae: 65.4722 - val_mse: 6368.3550\n",
      "Epoch 38/200\n",
      "\u001b[1m23/23\u001b[0m \u001b[32m━━━━━━━━━━━━━━━━━━━━\u001b[0m\u001b[37m\u001b[0m \u001b[1m0s\u001b[0m 8ms/step - loss: 6891.1714 - mae: 64.7141 - mse: 6891.1714 - val_loss: 8888.7246 - val_mae: 80.0339 - val_mse: 8888.7236\n",
      "Epoch 39/200\n",
      "\u001b[1m23/23\u001b[0m \u001b[32m━━━━━━━━━━━━━━━━━━━━\u001b[0m\u001b[37m\u001b[0m \u001b[1m0s\u001b[0m 7ms/step - loss: 10146.0742 - mae: 82.4139 - mse: 10146.0742 - val_loss: 8407.1055 - val_mae: 75.6227 - val_mse: 8407.1055\n",
      "Epoch 40/200\n",
      "\u001b[1m23/23\u001b[0m \u001b[32m━━━━━━━━━━━━━━━━━━━━\u001b[0m\u001b[37m\u001b[0m \u001b[1m0s\u001b[0m 8ms/step - loss: 10081.8174 - mae: 79.5538 - mse: 10081.8174 - val_loss: 7984.2939 - val_mae: 71.7422 - val_mse: 7984.2939\n",
      "Epoch 41/200\n",
      "\u001b[1m23/23\u001b[0m \u001b[32m━━━━━━━━━━━━━━━━━━━━\u001b[0m\u001b[37m\u001b[0m \u001b[1m0s\u001b[0m 8ms/step - loss: 9571.4688 - mae: 81.5582 - mse: 9571.4688 - val_loss: 5749.7388 - val_mae: 62.3490 - val_mse: 5749.7388\n",
      "Epoch 42/200\n",
      "\u001b[1m23/23\u001b[0m \u001b[32m━━━━━━━━━━━━━━━━━━━━\u001b[0m\u001b[37m\u001b[0m \u001b[1m0s\u001b[0m 7ms/step - loss: 5421.1626 - mae: 56.2424 - mse: 5421.1626 - val_loss: 7181.9268 - val_mae: 67.9162 - val_mse: 7181.9268\n",
      "Epoch 43/200\n",
      "\u001b[1m23/23\u001b[0m \u001b[32m━━━━━━━━━━━━━━━━━━━━\u001b[0m\u001b[37m\u001b[0m \u001b[1m0s\u001b[0m 8ms/step - loss: 6197.6035 - mae: 63.4918 - mse: 6197.6035 - val_loss: 9872.4365 - val_mae: 82.1467 - val_mse: 9872.4365\n",
      "Epoch 44/200\n",
      "\u001b[1m23/23\u001b[0m \u001b[32m━━━━━━━━━━━━━━━━━━━━\u001b[0m\u001b[37m\u001b[0m \u001b[1m0s\u001b[0m 9ms/step - loss: 8584.7168 - mae: 75.3530 - mse: 8584.7168 - val_loss: 5070.1772 - val_mae: 60.4539 - val_mse: 5070.1772\n",
      "Epoch 45/200\n",
      "\u001b[1m23/23\u001b[0m \u001b[32m━━━━━━━━━━━━━━━━━━━━\u001b[0m\u001b[37m\u001b[0m \u001b[1m0s\u001b[0m 8ms/step - loss: 6604.0044 - mae: 64.2030 - mse: 6604.0044 - val_loss: 4917.5752 - val_mae: 59.2157 - val_mse: 4917.5752\n",
      "Epoch 46/200\n",
      "\u001b[1m23/23\u001b[0m \u001b[32m━━━━━━━━━━━━━━━━━━━━\u001b[0m\u001b[37m\u001b[0m \u001b[1m0s\u001b[0m 8ms/step - loss: 7176.8379 - mae: 68.9273 - mse: 7176.8379 - val_loss: 8993.1123 - val_mae: 81.2666 - val_mse: 8993.1123\n",
      "Epoch 47/200\n",
      "\u001b[1m23/23\u001b[0m \u001b[32m━━━━━━━━━━━━━━━━━━━━\u001b[0m\u001b[37m\u001b[0m \u001b[1m0s\u001b[0m 8ms/step - loss: 6205.8901 - mae: 61.3441 - mse: 6205.8906 - val_loss: 5691.0908 - val_mae: 63.4663 - val_mse: 5691.0903\n",
      "Epoch 48/200\n",
      "\u001b[1m23/23\u001b[0m \u001b[32m━━━━━━━━━━━━━━━━━━━━\u001b[0m\u001b[37m\u001b[0m \u001b[1m0s\u001b[0m 8ms/step - loss: 4720.6216 - mae: 54.6845 - mse: 4720.6216 - val_loss: 5072.9844 - val_mae: 61.0955 - val_mse: 5072.9844\n",
      "Epoch 49/200\n",
      "\u001b[1m23/23\u001b[0m \u001b[32m━━━━━━━━━━━━━━━━━━━━\u001b[0m\u001b[37m\u001b[0m \u001b[1m0s\u001b[0m 8ms/step - loss: 3798.6492 - mae: 49.0972 - mse: 3798.6492 - val_loss: 4719.3877 - val_mae: 56.7737 - val_mse: 4719.3877\n",
      "Epoch 50/200\n",
      "\u001b[1m23/23\u001b[0m \u001b[32m━━━━━━━━━━━━━━━━━━━━\u001b[0m\u001b[37m\u001b[0m \u001b[1m0s\u001b[0m 8ms/step - loss: 4533.8140 - mae: 53.5191 - mse: 4533.8140 - val_loss: 4223.1953 - val_mae: 54.0980 - val_mse: 4223.1953\n",
      "Epoch 51/200\n",
      "\u001b[1m23/23\u001b[0m \u001b[32m━━━━━━━━━━━━━━━━━━━━\u001b[0m\u001b[37m\u001b[0m \u001b[1m0s\u001b[0m 7ms/step - loss: 4679.0688 - mae: 52.8590 - mse: 4679.0688 - val_loss: 5746.2500 - val_mae: 63.5550 - val_mse: 5746.2500\n",
      "Epoch 52/200\n",
      "\u001b[1m23/23\u001b[0m \u001b[32m━━━━━━━━━━━━━━━━━━━━\u001b[0m\u001b[37m\u001b[0m \u001b[1m0s\u001b[0m 8ms/step - loss: 4678.8330 - mae: 55.3522 - mse: 4678.8330 - val_loss: 4261.0581 - val_mae: 54.2129 - val_mse: 4261.0581\n",
      "Epoch 53/200\n",
      "\u001b[1m23/23\u001b[0m \u001b[32m━━━━━━━━━━━━━━━━━━━━\u001b[0m\u001b[37m\u001b[0m \u001b[1m0s\u001b[0m 7ms/step - loss: 4116.1665 - mae: 50.2462 - mse: 4116.1665 - val_loss: 4192.1357 - val_mae: 53.8035 - val_mse: 4192.1357\n",
      "Epoch 54/200\n",
      "\u001b[1m23/23\u001b[0m \u001b[32m━━━━━━━━━━━━━━━━━━━━\u001b[0m\u001b[37m\u001b[0m \u001b[1m0s\u001b[0m 8ms/step - loss: 4340.7695 - mae: 50.6409 - mse: 4340.7700 - val_loss: 4118.3369 - val_mae: 53.2011 - val_mse: 4118.3369\n",
      "Epoch 55/200\n",
      "\u001b[1m23/23\u001b[0m \u001b[32m━━━━━━━━━━━━━━━━━━━━\u001b[0m\u001b[37m\u001b[0m \u001b[1m0s\u001b[0m 9ms/step - loss: 4758.0986 - mae: 55.9797 - mse: 4758.0986 - val_loss: 4283.1670 - val_mae: 54.0093 - val_mse: 4283.1670\n",
      "Epoch 56/200\n",
      "\u001b[1m23/23\u001b[0m \u001b[32m━━━━━━━━━━━━━━━━━━━━\u001b[0m\u001b[37m\u001b[0m \u001b[1m0s\u001b[0m 9ms/step - loss: 3908.8132 - mae: 50.6395 - mse: 3908.8132 - val_loss: 4112.7554 - val_mae: 53.0295 - val_mse: 4112.7554\n",
      "Epoch 57/200\n",
      "\u001b[1m23/23\u001b[0m \u001b[32m━━━━━━━━━━━━━━━━━━━━\u001b[0m\u001b[37m\u001b[0m \u001b[1m0s\u001b[0m 10ms/step - loss: 4005.1116 - mae: 48.9113 - mse: 4005.1116 - val_loss: 4050.7454 - val_mae: 52.6813 - val_mse: 4050.7454\n",
      "Epoch 58/200\n",
      "\u001b[1m23/23\u001b[0m \u001b[32m━━━━━━━━━━━━━━━━━━━━\u001b[0m\u001b[37m\u001b[0m \u001b[1m0s\u001b[0m 9ms/step - loss: 3598.0059 - mae: 46.7175 - mse: 3598.0059 - val_loss: 4059.4382 - val_mae: 51.9991 - val_mse: 4059.4382\n",
      "Epoch 59/200\n",
      "\u001b[1m23/23\u001b[0m \u001b[32m━━━━━━━━━━━━━━━━━━━━\u001b[0m\u001b[37m\u001b[0m \u001b[1m0s\u001b[0m 8ms/step - loss: 4161.2549 - mae: 49.9772 - mse: 4161.2549 - val_loss: 5589.2266 - val_mae: 63.0315 - val_mse: 5589.2266\n",
      "Epoch 60/200\n",
      "\u001b[1m23/23\u001b[0m \u001b[32m━━━━━━━━━━━━━━━━━━━━\u001b[0m\u001b[37m\u001b[0m \u001b[1m0s\u001b[0m 8ms/step - loss: 4183.5830 - mae: 49.2104 - mse: 4183.5830 - val_loss: 4032.8521 - val_mae: 52.9660 - val_mse: 4032.8521\n",
      "Epoch 61/200\n",
      "\u001b[1m23/23\u001b[0m \u001b[32m━━━━━━━━━━━━━━━━━━━━\u001b[0m\u001b[37m\u001b[0m \u001b[1m1s\u001b[0m 18ms/step - loss: 4540.9092 - mae: 51.9886 - mse: 4540.9087 - val_loss: 3919.6704 - val_mae: 51.1109 - val_mse: 3919.6704\n",
      "Epoch 62/200\n",
      "\u001b[1m23/23\u001b[0m \u001b[32m━━━━━━━━━━━━━━━━━━━━\u001b[0m\u001b[37m\u001b[0m \u001b[1m0s\u001b[0m 9ms/step - loss: 3373.9143 - mae: 44.5786 - mse: 3373.9143 - val_loss: 3926.7461 - val_mae: 51.1514 - val_mse: 3926.7461\n",
      "Epoch 63/200\n",
      "\u001b[1m23/23\u001b[0m \u001b[32m━━━━━━━━━━━━━━━━━━━━\u001b[0m\u001b[37m\u001b[0m \u001b[1m0s\u001b[0m 8ms/step - loss: 4341.1460 - mae: 50.9584 - mse: 4341.1460 - val_loss: 3862.2163 - val_mae: 52.2007 - val_mse: 3862.2163\n",
      "Epoch 64/200\n",
      "\u001b[1m23/23\u001b[0m \u001b[32m━━━━━━━━━━━━━━━━━━━━\u001b[0m\u001b[37m\u001b[0m \u001b[1m0s\u001b[0m 8ms/step - loss: 4209.9424 - mae: 50.2707 - mse: 4209.9424 - val_loss: 4667.3340 - val_mae: 56.8200 - val_mse: 4667.3340\n",
      "Epoch 65/200\n",
      "\u001b[1m23/23\u001b[0m \u001b[32m━━━━━━━━━━━━━━━━━━━━\u001b[0m\u001b[37m\u001b[0m \u001b[1m0s\u001b[0m 8ms/step - loss: 3595.6438 - mae: 45.1491 - mse: 3595.6440 - val_loss: 4221.0103 - val_mae: 53.9055 - val_mse: 4221.0103\n",
      "Epoch 66/200\n",
      "\u001b[1m23/23\u001b[0m \u001b[32m━━━━━━━━━━━━━━━━━━━━\u001b[0m\u001b[37m\u001b[0m \u001b[1m1s\u001b[0m 28ms/step - loss: 3481.1238 - mae: 45.3401 - mse: 3481.1238 - val_loss: 4416.3110 - val_mae: 51.7265 - val_mse: 4416.3110\n",
      "Epoch 67/200\n",
      "\u001b[1m23/23\u001b[0m \u001b[32m━━━━━━━━━━━━━━━━━━━━\u001b[0m\u001b[37m\u001b[0m \u001b[1m0s\u001b[0m 16ms/step - loss: 4082.7515 - mae: 49.3650 - mse: 4082.7515 - val_loss: 4021.0422 - val_mae: 52.5430 - val_mse: 4021.0415\n",
      "Epoch 68/200\n",
      "\u001b[1m23/23\u001b[0m \u001b[32m━━━━━━━━━━━━━━━━━━━━\u001b[0m\u001b[37m\u001b[0m \u001b[1m0s\u001b[0m 8ms/step - loss: 4325.8145 - mae: 53.7332 - mse: 4325.8145 - val_loss: 4872.6846 - val_mae: 58.1833 - val_mse: 4872.6846\n",
      "Epoch 69/200\n",
      "\u001b[1m23/23\u001b[0m \u001b[32m━━━━━━━━━━━━━━━━━━━━\u001b[0m\u001b[37m\u001b[0m \u001b[1m0s\u001b[0m 11ms/step - loss: 3307.6350 - mae: 43.8897 - mse: 3307.6350 - val_loss: 3659.8970 - val_mae: 50.2477 - val_mse: 3659.8970\n",
      "Epoch 70/200\n",
      "\u001b[1m23/23\u001b[0m \u001b[32m━━━━━━━━━━━━━━━━━━━━\u001b[0m\u001b[37m\u001b[0m \u001b[1m0s\u001b[0m 11ms/step - loss: 3947.5630 - mae: 48.4611 - mse: 3947.5630 - val_loss: 3774.9731 - val_mae: 48.5382 - val_mse: 3774.9731\n",
      "Epoch 71/200\n",
      "\u001b[1m23/23\u001b[0m \u001b[32m━━━━━━━━━━━━━━━━━━━━\u001b[0m\u001b[37m\u001b[0m \u001b[1m0s\u001b[0m 17ms/step - loss: 3846.4683 - mae: 48.5581 - mse: 3846.4683 - val_loss: 3846.6399 - val_mae: 49.6322 - val_mse: 3846.6399\n",
      "Epoch 72/200\n",
      "\u001b[1m23/23\u001b[0m \u001b[32m━━━━━━━━━━━━━━━━━━━━\u001b[0m\u001b[37m\u001b[0m \u001b[1m0s\u001b[0m 13ms/step - loss: 3402.6018 - mae: 45.6865 - mse: 3402.6018 - val_loss: 3606.7766 - val_mae: 48.7776 - val_mse: 3606.7766\n",
      "Epoch 73/200\n",
      "\u001b[1m23/23\u001b[0m \u001b[32m━━━━━━━━━━━━━━━━━━━━\u001b[0m\u001b[37m\u001b[0m \u001b[1m1s\u001b[0m 18ms/step - loss: 3752.5417 - mae: 47.2059 - mse: 3752.5417 - val_loss: 3643.2271 - val_mae: 49.2160 - val_mse: 3643.2271\n",
      "Epoch 74/200\n",
      "\u001b[1m23/23\u001b[0m \u001b[32m━━━━━━━━━━━━━━━━━━━━\u001b[0m\u001b[37m\u001b[0m \u001b[1m0s\u001b[0m 11ms/step - loss: 3120.2285 - mae: 42.3026 - mse: 3120.2285 - val_loss: 3713.4468 - val_mae: 49.6377 - val_mse: 3713.4468\n",
      "Epoch 75/200\n",
      "\u001b[1m23/23\u001b[0m \u001b[32m━━━━━━━━━━━━━━━━━━━━\u001b[0m\u001b[37m\u001b[0m \u001b[1m0s\u001b[0m 9ms/step - loss: 3883.5098 - mae: 47.9429 - mse: 3883.5100 - val_loss: 4337.4482 - val_mae: 54.4501 - val_mse: 4337.4482\n",
      "Epoch 76/200\n",
      "\u001b[1m23/23\u001b[0m \u001b[32m━━━━━━━━━━━━━━━━━━━━\u001b[0m\u001b[37m\u001b[0m \u001b[1m0s\u001b[0m 9ms/step - loss: 3199.6169 - mae: 44.7824 - mse: 3199.6169 - val_loss: 5432.9258 - val_mae: 60.6623 - val_mse: 5432.9258\n",
      "Epoch 77/200\n",
      "\u001b[1m23/23\u001b[0m \u001b[32m━━━━━━━━━━━━━━━━━━━━\u001b[0m\u001b[37m\u001b[0m \u001b[1m0s\u001b[0m 10ms/step - loss: 4319.8643 - mae: 52.5993 - mse: 4319.8643 - val_loss: 3549.3149 - val_mae: 48.8328 - val_mse: 3549.3149\n",
      "Epoch 78/200\n",
      "\u001b[1m23/23\u001b[0m \u001b[32m━━━━━━━━━━━━━━━━━━━━\u001b[0m\u001b[37m\u001b[0m \u001b[1m0s\u001b[0m 14ms/step - loss: 4232.9351 - mae: 49.8773 - mse: 4232.9351 - val_loss: 3644.9778 - val_mae: 48.8299 - val_mse: 3644.9778\n",
      "Epoch 79/200\n",
      "\u001b[1m23/23\u001b[0m \u001b[32m━━━━━━━━━━━━━━━━━━━━\u001b[0m\u001b[37m\u001b[0m \u001b[1m1s\u001b[0m 15ms/step - loss: 3396.9172 - mae: 45.9970 - mse: 3396.9172 - val_loss: 3582.3535 - val_mae: 49.5093 - val_mse: 3582.3535\n",
      "Epoch 80/200\n",
      "\u001b[1m23/23\u001b[0m \u001b[32m━━━━━━━━━━━━━━━━━━━━\u001b[0m\u001b[37m\u001b[0m \u001b[1m1s\u001b[0m 18ms/step - loss: 3420.3472 - mae: 44.7841 - mse: 3420.3472 - val_loss: 3555.6108 - val_mae: 48.5924 - val_mse: 3555.6108\n",
      "Epoch 81/200\n",
      "\u001b[1m23/23\u001b[0m \u001b[32m━━━━━━━━━━━━━━━━━━━━\u001b[0m\u001b[37m\u001b[0m \u001b[1m1s\u001b[0m 21ms/step - loss: 2964.2332 - mae: 40.6060 - mse: 2964.2332 - val_loss: 3985.5527 - val_mae: 52.1508 - val_mse: 3985.5527\n",
      "Epoch 82/200\n",
      "\u001b[1m23/23\u001b[0m \u001b[32m━━━━━━━━━━━━━━━━━━━━\u001b[0m\u001b[37m\u001b[0m \u001b[1m1s\u001b[0m 25ms/step - loss: 3582.3748 - mae: 46.3125 - mse: 3582.3748 - val_loss: 3432.0239 - val_mae: 47.3858 - val_mse: 3432.0239\n",
      "Epoch 83/200\n",
      "\u001b[1m23/23\u001b[0m \u001b[32m━━━━━━━━━━━━━━━━━━━━\u001b[0m\u001b[37m\u001b[0m \u001b[1m0s\u001b[0m 16ms/step - loss: 3136.4246 - mae: 44.0411 - mse: 3136.4243 - val_loss: 4057.3879 - val_mae: 51.3623 - val_mse: 4057.3879\n",
      "Epoch 84/200\n",
      "\u001b[1m23/23\u001b[0m \u001b[32m━━━━━━━━━━━━━━━━━━━━\u001b[0m\u001b[37m\u001b[0m \u001b[1m0s\u001b[0m 16ms/step - loss: 3999.8184 - mae: 49.4934 - mse: 3999.8184 - val_loss: 4221.1738 - val_mae: 53.2676 - val_mse: 4221.1738\n",
      "Epoch 85/200\n",
      "\u001b[1m23/23\u001b[0m \u001b[32m━━━━━━━━━━━━━━━━━━━━\u001b[0m\u001b[37m\u001b[0m \u001b[1m1s\u001b[0m 15ms/step - loss: 3762.5669 - mae: 48.2258 - mse: 3762.5669 - val_loss: 4314.5776 - val_mae: 54.0915 - val_mse: 4314.5776\n",
      "Epoch 86/200\n",
      "\u001b[1m23/23\u001b[0m \u001b[32m━━━━━━━━━━━━━━━━━━━━\u001b[0m\u001b[37m\u001b[0m \u001b[1m1s\u001b[0m 27ms/step - loss: 3272.1113 - mae: 44.7469 - mse: 3272.1113 - val_loss: 3775.8484 - val_mae: 49.3431 - val_mse: 3775.8484\n",
      "Epoch 87/200\n",
      "\u001b[1m23/23\u001b[0m \u001b[32m━━━━━━━━━━━━━━━━━━━━\u001b[0m\u001b[37m\u001b[0m \u001b[1m1s\u001b[0m 31ms/step - loss: 3040.4231 - mae: 41.3700 - mse: 3040.4231 - val_loss: 3380.8821 - val_mae: 46.0158 - val_mse: 3380.8821\n",
      "Epoch 88/200\n",
      "\u001b[1m23/23\u001b[0m \u001b[32m━━━━━━━━━━━━━━━━━━━━\u001b[0m\u001b[37m\u001b[0m \u001b[1m1s\u001b[0m 14ms/step - loss: 3046.9734 - mae: 43.1238 - mse: 3046.9734 - val_loss: 3522.5215 - val_mae: 47.9982 - val_mse: 3522.5215\n",
      "Epoch 89/200\n",
      "\u001b[1m23/23\u001b[0m \u001b[32m━━━━━━━━━━━━━━━━━━━━\u001b[0m\u001b[37m\u001b[0m \u001b[1m0s\u001b[0m 19ms/step - loss: 3903.2686 - mae: 47.5682 - mse: 3903.2686 - val_loss: 6795.7642 - val_mae: 68.6936 - val_mse: 6795.7646\n",
      "Epoch 90/200\n",
      "\u001b[1m23/23\u001b[0m \u001b[32m━━━━━━━━━━━━━━━━━━━━\u001b[0m\u001b[37m\u001b[0m \u001b[1m1s\u001b[0m 22ms/step - loss: 4212.4302 - mae: 51.7012 - mse: 4212.4302 - val_loss: 3368.0110 - val_mae: 46.7375 - val_mse: 3368.0110\n",
      "Epoch 91/200\n",
      "\u001b[1m23/23\u001b[0m \u001b[32m━━━━━━━━━━━━━━━━━━━━\u001b[0m\u001b[37m\u001b[0m \u001b[1m1s\u001b[0m 23ms/step - loss: 3282.5803 - mae: 43.6590 - mse: 3282.5803 - val_loss: 6446.0771 - val_mae: 69.0694 - val_mse: 6446.0771\n",
      "Epoch 92/200\n",
      "\u001b[1m23/23\u001b[0m \u001b[32m━━━━━━━━━━━━━━━━━━━━\u001b[0m\u001b[37m\u001b[0m \u001b[1m1s\u001b[0m 27ms/step - loss: 3831.7224 - mae: 49.1048 - mse: 3831.7224 - val_loss: 4019.5776 - val_mae: 51.1663 - val_mse: 4019.5776\n",
      "Epoch 93/200\n",
      "\u001b[1m23/23\u001b[0m \u001b[32m━━━━━━━━━━━━━━━━━━━━\u001b[0m\u001b[37m\u001b[0m \u001b[1m1s\u001b[0m 21ms/step - loss: 3716.3159 - mae: 47.1943 - mse: 3716.3159 - val_loss: 3913.3809 - val_mae: 51.2268 - val_mse: 3913.3809\n",
      "Epoch 94/200\n",
      "\u001b[1m23/23\u001b[0m \u001b[32m━━━━━━━━━━━━━━━━━━━━\u001b[0m\u001b[37m\u001b[0m \u001b[1m0s\u001b[0m 9ms/step - loss: 2938.1567 - mae: 41.8380 - mse: 2938.1567 - val_loss: 4362.9414 - val_mae: 54.3026 - val_mse: 4362.9414\n",
      "Epoch 95/200\n",
      "\u001b[1m23/23\u001b[0m \u001b[32m━━━━━━━━━━━━━━━━━━━━\u001b[0m\u001b[37m\u001b[0m \u001b[1m0s\u001b[0m 12ms/step - loss: 3852.8806 - mae: 49.0055 - mse: 3852.8806 - val_loss: 4683.5176 - val_mae: 57.2318 - val_mse: 4683.5171\n",
      "Epoch 96/200\n",
      "\u001b[1m23/23\u001b[0m \u001b[32m━━━━━━━━━━━━━━━━━━━━\u001b[0m\u001b[37m\u001b[0m \u001b[1m0s\u001b[0m 17ms/step - loss: 3880.1760 - mae: 50.3787 - mse: 3880.1760 - val_loss: 3727.2007 - val_mae: 47.9562 - val_mse: 3727.2007\n",
      "Epoch 97/200\n",
      "\u001b[1m23/23\u001b[0m \u001b[32m━━━━━━━━━━━━━━━━━━━━\u001b[0m\u001b[37m\u001b[0m \u001b[1m1s\u001b[0m 30ms/step - loss: 2674.1372 - mae: 39.8199 - mse: 2674.1372 - val_loss: 3341.0808 - val_mae: 46.2616 - val_mse: 3341.0808\n",
      "Epoch 98/200\n",
      "\u001b[1m23/23\u001b[0m \u001b[32m━━━━━━━━━━━━━━━━━━━━\u001b[0m\u001b[37m\u001b[0m \u001b[1m1s\u001b[0m 15ms/step - loss: 2604.2009 - mae: 38.1734 - mse: 2604.2009 - val_loss: 4003.4265 - val_mae: 51.5508 - val_mse: 4003.4265\n",
      "Epoch 99/200\n",
      "\u001b[1m23/23\u001b[0m \u001b[32m━━━━━━━━━━━━━━━━━━━━\u001b[0m\u001b[37m\u001b[0m \u001b[1m0s\u001b[0m 14ms/step - loss: 2946.5254 - mae: 40.2736 - mse: 2946.5254 - val_loss: 3304.7085 - val_mae: 44.8781 - val_mse: 3304.7085\n",
      "Epoch 100/200\n",
      "\u001b[1m23/23\u001b[0m \u001b[32m━━━━━━━━━━━━━━━━━━━━\u001b[0m\u001b[37m\u001b[0m \u001b[1m0s\u001b[0m 15ms/step - loss: 3498.2646 - mae: 44.6851 - mse: 3498.2644 - val_loss: 4519.6963 - val_mae: 55.5845 - val_mse: 4519.6963\n",
      "Epoch 101/200\n",
      "\u001b[1m23/23\u001b[0m \u001b[32m━━━━━━━━━━━━━━━━━━━━\u001b[0m\u001b[37m\u001b[0m \u001b[1m0s\u001b[0m 15ms/step - loss: 3367.6270 - mae: 42.9850 - mse: 3367.6270 - val_loss: 3356.0117 - val_mae: 44.9330 - val_mse: 3356.0117\n",
      "Epoch 102/200\n",
      "\u001b[1m23/23\u001b[0m \u001b[32m━━━━━━━━━━━━━━━━━━━━\u001b[0m\u001b[37m\u001b[0m \u001b[1m0s\u001b[0m 13ms/step - loss: 2713.1895 - mae: 38.7405 - mse: 2713.1895 - val_loss: 3334.0547 - val_mae: 44.4764 - val_mse: 3334.0547\n",
      "Epoch 103/200\n",
      "\u001b[1m23/23\u001b[0m \u001b[32m━━━━━━━━━━━━━━━━━━━━\u001b[0m\u001b[37m\u001b[0m \u001b[1m0s\u001b[0m 14ms/step - loss: 3193.1941 - mae: 44.8184 - mse: 3193.1941 - val_loss: 3204.1274 - val_mae: 45.1070 - val_mse: 3204.1274\n",
      "Epoch 104/200\n",
      "\u001b[1m23/23\u001b[0m \u001b[32m━━━━━━━━━━━━━━━━━━━━\u001b[0m\u001b[37m\u001b[0m \u001b[1m0s\u001b[0m 10ms/step - loss: 3009.9939 - mae: 42.1133 - mse: 3009.9939 - val_loss: 3272.2671 - val_mae: 45.1004 - val_mse: 3272.2671\n",
      "Epoch 105/200\n",
      "\u001b[1m23/23\u001b[0m \u001b[32m━━━━━━━━━━━━━━━━━━━━\u001b[0m\u001b[37m\u001b[0m \u001b[1m1s\u001b[0m 8ms/step - loss: 2957.6055 - mae: 41.4801 - mse: 2957.6057 - val_loss: 3137.3655 - val_mae: 43.6820 - val_mse: 3137.3655\n",
      "Epoch 106/200\n",
      "\u001b[1m23/23\u001b[0m \u001b[32m━━━━━━━━━━━━━━━━━━━━\u001b[0m\u001b[37m\u001b[0m \u001b[1m0s\u001b[0m 9ms/step - loss: 2731.0371 - mae: 41.2348 - mse: 2731.0371 - val_loss: 3099.8848 - val_mae: 43.3190 - val_mse: 3099.8848\n",
      "Epoch 107/200\n",
      "\u001b[1m23/23\u001b[0m \u001b[32m━━━━━━━━━━━━━━━━━━━━\u001b[0m\u001b[37m\u001b[0m \u001b[1m0s\u001b[0m 9ms/step - loss: 2854.7434 - mae: 41.5406 - mse: 2854.7434 - val_loss: 3778.5891 - val_mae: 49.2891 - val_mse: 3778.5891\n",
      "Epoch 108/200\n",
      "\u001b[1m23/23\u001b[0m \u001b[32m━━━━━━━━━━━━━━━━━━━━\u001b[0m\u001b[37m\u001b[0m \u001b[1m0s\u001b[0m 9ms/step - loss: 2792.8660 - mae: 40.5792 - mse: 2792.8660 - val_loss: 3127.2717 - val_mae: 44.1893 - val_mse: 3127.2717\n",
      "Epoch 109/200\n",
      "\u001b[1m23/23\u001b[0m \u001b[32m━━━━━━━━━━━━━━━━━━━━\u001b[0m\u001b[37m\u001b[0m \u001b[1m0s\u001b[0m 9ms/step - loss: 2578.3799 - mae: 38.5899 - mse: 2578.3801 - val_loss: 3133.4207 - val_mae: 42.9090 - val_mse: 3133.4207\n",
      "Epoch 110/200\n",
      "\u001b[1m23/23\u001b[0m \u001b[32m━━━━━━━━━━━━━━━━━━━━\u001b[0m\u001b[37m\u001b[0m \u001b[1m0s\u001b[0m 13ms/step - loss: 2733.2908 - mae: 40.2413 - mse: 2733.2908 - val_loss: 3140.7339 - val_mae: 44.2409 - val_mse: 3140.7344\n",
      "Epoch 111/200\n",
      "\u001b[1m23/23\u001b[0m \u001b[32m━━━━━━━━━━━━━━━━━━━━\u001b[0m\u001b[37m\u001b[0m \u001b[1m0s\u001b[0m 10ms/step - loss: 2655.0847 - mae: 40.6866 - mse: 2655.0847 - val_loss: 4553.8994 - val_mae: 56.5528 - val_mse: 4553.8994\n",
      "Epoch 112/200\n",
      "\u001b[1m23/23\u001b[0m \u001b[32m━━━━━━━━━━━━━━━━━━━━\u001b[0m\u001b[37m\u001b[0m \u001b[1m0s\u001b[0m 10ms/step - loss: 3548.4304 - mae: 47.9806 - mse: 3548.4304 - val_loss: 3592.0835 - val_mae: 48.4282 - val_mse: 3592.0835\n",
      "Epoch 113/200\n",
      "\u001b[1m23/23\u001b[0m \u001b[32m━━━━━━━━━━━━━━━━━━━━\u001b[0m\u001b[37m\u001b[0m \u001b[1m0s\u001b[0m 10ms/step - loss: 2541.9453 - mae: 39.3985 - mse: 2541.9453 - val_loss: 3823.9194 - val_mae: 49.7366 - val_mse: 3823.9194\n",
      "Epoch 114/200\n",
      "\u001b[1m23/23\u001b[0m \u001b[32m━━━━━━━━━━━━━━━━━━━━\u001b[0m\u001b[37m\u001b[0m \u001b[1m0s\u001b[0m 10ms/step - loss: 3837.8271 - mae: 48.0204 - mse: 3837.8271 - val_loss: 3638.0461 - val_mae: 47.6553 - val_mse: 3638.0461\n",
      "Epoch 115/200\n",
      "\u001b[1m23/23\u001b[0m \u001b[32m━━━━━━━━━━━━━━━━━━━━\u001b[0m\u001b[37m\u001b[0m \u001b[1m0s\u001b[0m 9ms/step - loss: 2468.3596 - mae: 37.1233 - mse: 2468.3596 - val_loss: 3565.0786 - val_mae: 47.8320 - val_mse: 3565.0786\n",
      "Epoch 116/200\n",
      "\u001b[1m23/23\u001b[0m \u001b[32m━━━━━━━━━━━━━━━━━━━━\u001b[0m\u001b[37m\u001b[0m \u001b[1m0s\u001b[0m 10ms/step - loss: 2292.4446 - mae: 36.8250 - mse: 2292.4446 - val_loss: 4252.4946 - val_mae: 54.1117 - val_mse: 4252.4946\n",
      "Epoch 117/200\n",
      "\u001b[1m23/23\u001b[0m \u001b[32m━━━━━━━━━━━━━━━━━━━━\u001b[0m\u001b[37m\u001b[0m \u001b[1m0s\u001b[0m 8ms/step - loss: 3640.9805 - mae: 46.9911 - mse: 3640.9805 - val_loss: 3070.1895 - val_mae: 43.2396 - val_mse: 3070.1895\n",
      "Epoch 118/200\n",
      "\u001b[1m23/23\u001b[0m \u001b[32m━━━━━━━━━━━━━━━━━━━━\u001b[0m\u001b[37m\u001b[0m \u001b[1m0s\u001b[0m 9ms/step - loss: 2867.1611 - mae: 40.3799 - mse: 2867.1611 - val_loss: 3056.7278 - val_mae: 43.7048 - val_mse: 3056.7275\n",
      "Epoch 119/200\n",
      "\u001b[1m23/23\u001b[0m \u001b[32m━━━━━━━━━━━━━━━━━━━━\u001b[0m\u001b[37m\u001b[0m \u001b[1m0s\u001b[0m 13ms/step - loss: 2815.1541 - mae: 40.6548 - mse: 2815.1541 - val_loss: 3697.8843 - val_mae: 49.0917 - val_mse: 3697.8843\n",
      "Epoch 120/200\n",
      "\u001b[1m23/23\u001b[0m \u001b[32m━━━━━━━━━━━━━━━━━━━━\u001b[0m\u001b[37m\u001b[0m \u001b[1m1s\u001b[0m 20ms/step - loss: 3042.2163 - mae: 42.4879 - mse: 3042.2163 - val_loss: 2960.2839 - val_mae: 42.4428 - val_mse: 2960.2839\n",
      "Epoch 121/200\n",
      "\u001b[1m23/23\u001b[0m \u001b[32m━━━━━━━━━━━━━━━━━━━━\u001b[0m\u001b[37m\u001b[0m \u001b[1m0s\u001b[0m 9ms/step - loss: 2431.0771 - mae: 38.3777 - mse: 2431.0771 - val_loss: 3022.8901 - val_mae: 42.6225 - val_mse: 3022.8901\n",
      "Epoch 122/200\n",
      "\u001b[1m23/23\u001b[0m \u001b[32m━━━━━━━━━━━━━━━━━━━━\u001b[0m\u001b[37m\u001b[0m \u001b[1m0s\u001b[0m 12ms/step - loss: 2824.8984 - mae: 41.4141 - mse: 2824.8984 - val_loss: 3478.1738 - val_mae: 47.2807 - val_mse: 3478.1738\n",
      "Epoch 123/200\n",
      "\u001b[1m23/23\u001b[0m \u001b[32m━━━━━━━━━━━━━━━━━━━━\u001b[0m\u001b[37m\u001b[0m \u001b[1m0s\u001b[0m 9ms/step - loss: 3177.7649 - mae: 45.6951 - mse: 3177.7651 - val_loss: 4395.7021 - val_mae: 53.5940 - val_mse: 4395.7021\n",
      "Epoch 124/200\n",
      "\u001b[1m23/23\u001b[0m \u001b[32m━━━━━━━━━━━━━━━━━━━━\u001b[0m\u001b[37m\u001b[0m \u001b[1m0s\u001b[0m 8ms/step - loss: 3411.7307 - mae: 46.1716 - mse: 3411.7307 - val_loss: 3420.4688 - val_mae: 46.5471 - val_mse: 3420.4688\n",
      "Epoch 125/200\n",
      "\u001b[1m23/23\u001b[0m \u001b[32m━━━━━━━━━━━━━━━━━━━━\u001b[0m\u001b[37m\u001b[0m \u001b[1m0s\u001b[0m 8ms/step - loss: 2797.9177 - mae: 39.2468 - mse: 2797.9177 - val_loss: 3101.4888 - val_mae: 44.7900 - val_mse: 3101.4888\n",
      "Epoch 126/200\n",
      "\u001b[1m23/23\u001b[0m \u001b[32m━━━━━━━━━━━━━━━━━━━━\u001b[0m\u001b[37m\u001b[0m \u001b[1m0s\u001b[0m 8ms/step - loss: 2474.8625 - mae: 39.7602 - mse: 2474.8625 - val_loss: 3188.1177 - val_mae: 44.8608 - val_mse: 3188.1177\n",
      "Epoch 127/200\n",
      "\u001b[1m23/23\u001b[0m \u001b[32m━━━━━━━━━━━━━━━━━━━━\u001b[0m\u001b[37m\u001b[0m \u001b[1m0s\u001b[0m 8ms/step - loss: 2646.6475 - mae: 40.0456 - mse: 2646.6475 - val_loss: 3380.8223 - val_mae: 47.4260 - val_mse: 3380.8223\n",
      "Epoch 128/200\n",
      "\u001b[1m23/23\u001b[0m \u001b[32m━━━━━━━━━━━━━━━━━━━━\u001b[0m\u001b[37m\u001b[0m \u001b[1m0s\u001b[0m 11ms/step - loss: 2803.5889 - mae: 41.1711 - mse: 2803.5889 - val_loss: 3970.4500 - val_mae: 51.4478 - val_mse: 3970.4500\n",
      "Epoch 129/200\n",
      "\u001b[1m23/23\u001b[0m \u001b[32m━━━━━━━━━━━━━━━━━━━━\u001b[0m\u001b[37m\u001b[0m \u001b[1m0s\u001b[0m 12ms/step - loss: 3119.2795 - mae: 44.9043 - mse: 3119.2795 - val_loss: 3189.5852 - val_mae: 43.8738 - val_mse: 3189.5852\n",
      "Epoch 130/200\n",
      "\u001b[1m23/23\u001b[0m \u001b[32m━━━━━━━━━━━━━━━━━━━━\u001b[0m\u001b[37m\u001b[0m \u001b[1m0s\u001b[0m 9ms/step - loss: 3718.5757 - mae: 48.9593 - mse: 3718.5757 - val_loss: 3094.1829 - val_mae: 45.1323 - val_mse: 3094.1829\n",
      "Epoch 131/200\n",
      "\u001b[1m23/23\u001b[0m \u001b[32m━━━━━━━━━━━━━━━━━━━━\u001b[0m\u001b[37m\u001b[0m \u001b[1m0s\u001b[0m 9ms/step - loss: 2496.8303 - mae: 38.2638 - mse: 2496.8303 - val_loss: 3240.8882 - val_mae: 43.6235 - val_mse: 3240.8882\n",
      "Epoch 132/200\n",
      "\u001b[1m23/23\u001b[0m \u001b[32m━━━━━━━━━━━━━━━━━━━━\u001b[0m\u001b[37m\u001b[0m \u001b[1m0s\u001b[0m 8ms/step - loss: 2850.5288 - mae: 40.7966 - mse: 2850.5288 - val_loss: 3146.3069 - val_mae: 45.1181 - val_mse: 3146.3071\n",
      "Epoch 133/200\n",
      "\u001b[1m23/23\u001b[0m \u001b[32m━━━━━━━━━━━━━━━━━━━━\u001b[0m\u001b[37m\u001b[0m \u001b[1m0s\u001b[0m 8ms/step - loss: 2401.6011 - mae: 38.2445 - mse: 2401.6011 - val_loss: 2895.7078 - val_mae: 41.7991 - val_mse: 2895.7078\n",
      "Epoch 134/200\n",
      "\u001b[1m23/23\u001b[0m \u001b[32m━━━━━━━━━━━━━━━━━━━━\u001b[0m\u001b[37m\u001b[0m \u001b[1m0s\u001b[0m 8ms/step - loss: 2867.0298 - mae: 41.5648 - mse: 2867.0298 - val_loss: 4275.6113 - val_mae: 54.5902 - val_mse: 4275.6113\n",
      "Epoch 135/200\n",
      "\u001b[1m23/23\u001b[0m \u001b[32m━━━━━━━━━━━━━━━━━━━━\u001b[0m\u001b[37m\u001b[0m \u001b[1m0s\u001b[0m 9ms/step - loss: 2697.8696 - mae: 39.3759 - mse: 2697.8696 - val_loss: 3365.8945 - val_mae: 45.3755 - val_mse: 3365.8945\n",
      "Epoch 136/200\n",
      "\u001b[1m23/23\u001b[0m \u001b[32m━━━━━━━━━━━━━━━━━━━━\u001b[0m\u001b[37m\u001b[0m \u001b[1m0s\u001b[0m 10ms/step - loss: 2686.5618 - mae: 41.1630 - mse: 2686.5618 - val_loss: 3390.6763 - val_mae: 47.2736 - val_mse: 3390.6763\n",
      "Epoch 137/200\n",
      "\u001b[1m23/23\u001b[0m \u001b[32m━━━━━━━━━━━━━━━━━━━━\u001b[0m\u001b[37m\u001b[0m \u001b[1m0s\u001b[0m 8ms/step - loss: 3185.9587 - mae: 44.2013 - mse: 3185.9587 - val_loss: 3167.9878 - val_mae: 44.3071 - val_mse: 3167.9878\n",
      "Epoch 138/200\n",
      "\u001b[1m23/23\u001b[0m \u001b[32m━━━━━━━━━━━━━━━━━━━━\u001b[0m\u001b[37m\u001b[0m \u001b[1m0s\u001b[0m 8ms/step - loss: 2633.4636 - mae: 38.2375 - mse: 2633.4639 - val_loss: 3181.0149 - val_mae: 45.2895 - val_mse: 3181.0149\n",
      "Epoch 139/200\n",
      "\u001b[1m23/23\u001b[0m \u001b[32m━━━━━━━━━━━━━━━━━━━━\u001b[0m\u001b[37m\u001b[0m \u001b[1m0s\u001b[0m 8ms/step - loss: 2831.1414 - mae: 41.0064 - mse: 2831.1414 - val_loss: 4507.6421 - val_mae: 55.8424 - val_mse: 4507.6421\n",
      "Epoch 140/200\n",
      "\u001b[1m23/23\u001b[0m \u001b[32m━━━━━━━━━━━━━━━━━━━━\u001b[0m\u001b[37m\u001b[0m \u001b[1m0s\u001b[0m 8ms/step - loss: 2961.4282 - mae: 42.8035 - mse: 2961.4282 - val_loss: 3093.8372 - val_mae: 44.9410 - val_mse: 3093.8372\n",
      "Epoch 141/200\n",
      "\u001b[1m23/23\u001b[0m \u001b[32m━━━━━━━━━━━━━━━━━━━━\u001b[0m\u001b[37m\u001b[0m \u001b[1m0s\u001b[0m 12ms/step - loss: 2437.0173 - mae: 37.7275 - mse: 2437.0173 - val_loss: 3134.2271 - val_mae: 44.0460 - val_mse: 3134.2271\n",
      "Epoch 142/200\n",
      "\u001b[1m23/23\u001b[0m \u001b[32m━━━━━━━━━━━━━━━━━━━━\u001b[0m\u001b[37m\u001b[0m \u001b[1m0s\u001b[0m 9ms/step - loss: 2327.9446 - mae: 36.6863 - mse: 2327.9446 - val_loss: 2818.9749 - val_mae: 41.8933 - val_mse: 2818.9749\n",
      "Epoch 143/200\n",
      "\u001b[1m23/23\u001b[0m \u001b[32m━━━━━━━━━━━━━━━━━━━━\u001b[0m\u001b[37m\u001b[0m \u001b[1m0s\u001b[0m 8ms/step - loss: 2578.8337 - mae: 40.5899 - mse: 2578.8335 - val_loss: 3075.0974 - val_mae: 43.7714 - val_mse: 3075.0974\n",
      "Epoch 144/200\n",
      "\u001b[1m23/23\u001b[0m \u001b[32m━━━━━━━━━━━━━━━━━━━━\u001b[0m\u001b[37m\u001b[0m \u001b[1m0s\u001b[0m 9ms/step - loss: 2959.6904 - mae: 42.3581 - mse: 2959.6904 - val_loss: 3015.5093 - val_mae: 44.3715 - val_mse: 3015.5093\n",
      "Epoch 145/200\n",
      "\u001b[1m23/23\u001b[0m \u001b[32m━━━━━━━━━━━━━━━━━━━━\u001b[0m\u001b[37m\u001b[0m \u001b[1m0s\u001b[0m 8ms/step - loss: 2399.0317 - mae: 37.8386 - mse: 2399.0317 - val_loss: 4135.9644 - val_mae: 53.7620 - val_mse: 4135.9644\n",
      "Epoch 146/200\n",
      "\u001b[1m23/23\u001b[0m \u001b[32m━━━━━━━━━━━━━━━━━━━━\u001b[0m\u001b[37m\u001b[0m \u001b[1m1s\u001b[0m 21ms/step - loss: 2220.6726 - mae: 35.5120 - mse: 2220.6726 - val_loss: 2788.5571 - val_mae: 40.8982 - val_mse: 2788.5571\n",
      "Epoch 147/200\n",
      "\u001b[1m23/23\u001b[0m \u001b[32m━━━━━━━━━━━━━━━━━━━━\u001b[0m\u001b[37m\u001b[0m \u001b[1m0s\u001b[0m 9ms/step - loss: 2374.5835 - mae: 37.7659 - mse: 2374.5833 - val_loss: 2813.3364 - val_mae: 41.8957 - val_mse: 2813.3364\n",
      "Epoch 148/200\n",
      "\u001b[1m23/23\u001b[0m \u001b[32m━━━━━━━━━━━━━━━━━━━━\u001b[0m\u001b[37m\u001b[0m \u001b[1m0s\u001b[0m 10ms/step - loss: 2176.5020 - mae: 35.7568 - mse: 2176.5020 - val_loss: 2942.9739 - val_mae: 43.0903 - val_mse: 2942.9739\n",
      "Epoch 149/200\n",
      "\u001b[1m23/23\u001b[0m \u001b[32m━━━━━━━━━━━━━━━━━━━━\u001b[0m\u001b[37m\u001b[0m \u001b[1m0s\u001b[0m 10ms/step - loss: 2701.0073 - mae: 39.5791 - mse: 2701.0073 - val_loss: 2675.8462 - val_mae: 40.1593 - val_mse: 2675.8462\n",
      "Epoch 150/200\n",
      "\u001b[1m23/23\u001b[0m \u001b[32m━━━━━━━━━━━━━━━━━━━━\u001b[0m\u001b[37m\u001b[0m \u001b[1m0s\u001b[0m 9ms/step - loss: 2436.3086 - mae: 37.5985 - mse: 2436.3086 - val_loss: 3921.0183 - val_mae: 51.8388 - val_mse: 3921.0183\n",
      "Epoch 151/200\n",
      "\u001b[1m23/23\u001b[0m \u001b[32m━━━━━━━━━━━━━━━━━━━━\u001b[0m\u001b[37m\u001b[0m \u001b[1m0s\u001b[0m 9ms/step - loss: 2845.8215 - mae: 42.1373 - mse: 2845.8215 - val_loss: 2773.2407 - val_mae: 41.1761 - val_mse: 2773.2407\n",
      "Epoch 152/200\n",
      "\u001b[1m23/23\u001b[0m \u001b[32m━━━━━━━━━━━━━━━━━━━━\u001b[0m\u001b[37m\u001b[0m \u001b[1m0s\u001b[0m 11ms/step - loss: 2539.8230 - mae: 38.5986 - mse: 2539.8230 - val_loss: 2647.6938 - val_mae: 40.1309 - val_mse: 2647.6938\n",
      "Epoch 153/200\n",
      "\u001b[1m23/23\u001b[0m \u001b[32m━━━━━━━━━━━━━━━━━━━━\u001b[0m\u001b[37m\u001b[0m \u001b[1m0s\u001b[0m 9ms/step - loss: 2575.9651 - mae: 37.6772 - mse: 2575.9651 - val_loss: 3038.9170 - val_mae: 42.5045 - val_mse: 3038.9170\n",
      "Epoch 154/200\n",
      "\u001b[1m23/23\u001b[0m \u001b[32m━━━━━━━━━━━━━━━━━━━━\u001b[0m\u001b[37m\u001b[0m \u001b[1m0s\u001b[0m 11ms/step - loss: 2749.7400 - mae: 39.9439 - mse: 2749.7400 - val_loss: 4180.3955 - val_mae: 53.3378 - val_mse: 4180.3955\n",
      "Epoch 155/200\n",
      "\u001b[1m23/23\u001b[0m \u001b[32m━━━━━━━━━━━━━━━━━━━━\u001b[0m\u001b[37m\u001b[0m \u001b[1m0s\u001b[0m 12ms/step - loss: 2931.3994 - mae: 43.2401 - mse: 2931.3994 - val_loss: 3284.8430 - val_mae: 45.8483 - val_mse: 3284.8430\n",
      "Epoch 156/200\n",
      "\u001b[1m23/23\u001b[0m \u001b[32m━━━━━━━━━━━━━━━━━━━━\u001b[0m\u001b[37m\u001b[0m \u001b[1m0s\u001b[0m 9ms/step - loss: 2217.0420 - mae: 36.7176 - mse: 2217.0417 - val_loss: 2768.0828 - val_mae: 41.3537 - val_mse: 2768.0828\n",
      "Epoch 157/200\n",
      "\u001b[1m23/23\u001b[0m \u001b[32m━━━━━━━━━━━━━━━━━━━━\u001b[0m\u001b[37m\u001b[0m \u001b[1m0s\u001b[0m 9ms/step - loss: 2785.4531 - mae: 40.5338 - mse: 2785.4531 - val_loss: 3146.9268 - val_mae: 45.0600 - val_mse: 3146.9268\n",
      "Epoch 158/200\n",
      "\u001b[1m23/23\u001b[0m \u001b[32m━━━━━━━━━━━━━━━━━━━━\u001b[0m\u001b[37m\u001b[0m \u001b[1m0s\u001b[0m 11ms/step - loss: 2233.5735 - mae: 36.8530 - mse: 2233.5735 - val_loss: 2635.1047 - val_mae: 40.1624 - val_mse: 2635.1047\n",
      "Epoch 159/200\n",
      "\u001b[1m23/23\u001b[0m \u001b[32m━━━━━━━━━━━━━━━━━━━━\u001b[0m\u001b[37m\u001b[0m \u001b[1m0s\u001b[0m 11ms/step - loss: 2356.6240 - mae: 37.4689 - mse: 2356.6240 - val_loss: 3232.0466 - val_mae: 45.3377 - val_mse: 3232.0466\n",
      "Epoch 160/200\n",
      "\u001b[1m23/23\u001b[0m \u001b[32m━━━━━━━━━━━━━━━━━━━━\u001b[0m\u001b[37m\u001b[0m \u001b[1m0s\u001b[0m 10ms/step - loss: 1829.4215 - mae: 33.0525 - mse: 1829.4215 - val_loss: 2632.0806 - val_mae: 39.8981 - val_mse: 2632.0806\n",
      "Epoch 161/200\n",
      "\u001b[1m23/23\u001b[0m \u001b[32m━━━━━━━━━━━━━━━━━━━━\u001b[0m\u001b[37m\u001b[0m \u001b[1m0s\u001b[0m 11ms/step - loss: 2653.7202 - mae: 38.7724 - mse: 2653.7202 - val_loss: 2726.8604 - val_mae: 41.2687 - val_mse: 2726.8604\n",
      "Epoch 162/200\n",
      "\u001b[1m23/23\u001b[0m \u001b[32m━━━━━━━━━━━━━━━━━━━━\u001b[0m\u001b[37m\u001b[0m \u001b[1m0s\u001b[0m 15ms/step - loss: 2125.0452 - mae: 35.2083 - mse: 2125.0452 - val_loss: 3358.3848 - val_mae: 46.8013 - val_mse: 3358.3848\n",
      "Epoch 163/200\n",
      "\u001b[1m23/23\u001b[0m \u001b[32m━━━━━━━━━━━━━━━━━━━━\u001b[0m\u001b[37m\u001b[0m \u001b[1m1s\u001b[0m 10ms/step - loss: 2417.2966 - mae: 37.8570 - mse: 2417.2966 - val_loss: 2600.5083 - val_mae: 39.8157 - val_mse: 2600.5083\n",
      "Epoch 164/200\n",
      "\u001b[1m23/23\u001b[0m \u001b[32m━━━━━━━━━━━━━━━━━━━━\u001b[0m\u001b[37m\u001b[0m \u001b[1m0s\u001b[0m 13ms/step - loss: 2729.5471 - mae: 40.8604 - mse: 2729.5471 - val_loss: 3544.0835 - val_mae: 48.7590 - val_mse: 3544.0835\n",
      "Epoch 165/200\n",
      "\u001b[1m23/23\u001b[0m \u001b[32m━━━━━━━━━━━━━━━━━━━━\u001b[0m\u001b[37m\u001b[0m \u001b[1m1s\u001b[0m 12ms/step - loss: 2168.9856 - mae: 36.8992 - mse: 2168.9856 - val_loss: 2738.0632 - val_mae: 41.0658 - val_mse: 2738.0632\n",
      "Epoch 166/200\n",
      "\u001b[1m23/23\u001b[0m \u001b[32m━━━━━━━━━━━━━━━━━━━━\u001b[0m\u001b[37m\u001b[0m \u001b[1m1s\u001b[0m 20ms/step - loss: 2012.3267 - mae: 33.8633 - mse: 2012.3267 - val_loss: 2591.9644 - val_mae: 39.5569 - val_mse: 2591.9644\n",
      "Epoch 167/200\n",
      "\u001b[1m23/23\u001b[0m \u001b[32m━━━━━━━━━━━━━━━━━━━━\u001b[0m\u001b[37m\u001b[0m \u001b[1m0s\u001b[0m 10ms/step - loss: 2425.0061 - mae: 37.8204 - mse: 2425.0061 - val_loss: 3011.6396 - val_mae: 44.6756 - val_mse: 3011.6396\n",
      "Epoch 168/200\n",
      "\u001b[1m23/23\u001b[0m \u001b[32m━━━━━━━━━━━━━━━━━━━━\u001b[0m\u001b[37m\u001b[0m \u001b[1m0s\u001b[0m 10ms/step - loss: 2314.9666 - mae: 38.2832 - mse: 2314.9666 - val_loss: 2597.8105 - val_mae: 39.5359 - val_mse: 2597.8101\n",
      "Epoch 169/200\n",
      "\u001b[1m23/23\u001b[0m \u001b[32m━━━━━━━━━━━━━━━━━━━━\u001b[0m\u001b[37m\u001b[0m \u001b[1m0s\u001b[0m 12ms/step - loss: 2456.3816 - mae: 37.1283 - mse: 2456.3816 - val_loss: 2604.5298 - val_mae: 39.6066 - val_mse: 2604.5298\n",
      "Epoch 170/200\n",
      "\u001b[1m23/23\u001b[0m \u001b[32m━━━━━━━━━━━━━━━━━━━━\u001b[0m\u001b[37m\u001b[0m \u001b[1m0s\u001b[0m 12ms/step - loss: 2368.0081 - mae: 37.3888 - mse: 2368.0081 - val_loss: 2895.6377 - val_mae: 43.1359 - val_mse: 2895.6377\n",
      "Epoch 171/200\n",
      "\u001b[1m23/23\u001b[0m \u001b[32m━━━━━━━━━━━━━━━━━━━━\u001b[0m\u001b[37m\u001b[0m \u001b[1m0s\u001b[0m 10ms/step - loss: 2185.8843 - mae: 35.4735 - mse: 2185.8843 - val_loss: 3387.2422 - val_mae: 46.9508 - val_mse: 3387.2422\n",
      "Epoch 172/200\n",
      "\u001b[1m23/23\u001b[0m \u001b[32m━━━━━━━━━━━━━━━━━━━━\u001b[0m\u001b[37m\u001b[0m \u001b[1m0s\u001b[0m 10ms/step - loss: 1987.7212 - mae: 35.2287 - mse: 1987.7212 - val_loss: 2518.5278 - val_mae: 39.0996 - val_mse: 2518.5278\n",
      "Epoch 173/200\n",
      "\u001b[1m23/23\u001b[0m \u001b[32m━━━━━━━━━━━━━━━━━━━━\u001b[0m\u001b[37m\u001b[0m \u001b[1m0s\u001b[0m 9ms/step - loss: 2389.4492 - mae: 37.9094 - mse: 2389.4492 - val_loss: 2643.7827 - val_mae: 40.9993 - val_mse: 2643.7827\n",
      "Epoch 174/200\n",
      "\u001b[1m23/23\u001b[0m \u001b[32m━━━━━━━━━━━━━━━━━━━━\u001b[0m\u001b[37m\u001b[0m \u001b[1m0s\u001b[0m 8ms/step - loss: 2093.0452 - mae: 35.9300 - mse: 2093.0452 - val_loss: 2582.5100 - val_mae: 39.8556 - val_mse: 2582.5100\n",
      "Epoch 175/200\n",
      "\u001b[1m23/23\u001b[0m \u001b[32m━━━━━━━━━━━━━━━━━━━━\u001b[0m\u001b[37m\u001b[0m \u001b[1m0s\u001b[0m 8ms/step - loss: 2513.1733 - mae: 38.0586 - mse: 2513.1733 - val_loss: 2806.7551 - val_mae: 41.5310 - val_mse: 2806.7551\n",
      "Epoch 176/200\n",
      "\u001b[1m23/23\u001b[0m \u001b[32m━━━━━━━━━━━━━━━━━━━━\u001b[0m\u001b[37m\u001b[0m \u001b[1m0s\u001b[0m 9ms/step - loss: 1985.9313 - mae: 32.2568 - mse: 1985.9313 - val_loss: 2550.7844 - val_mae: 39.6323 - val_mse: 2550.7844\n",
      "Epoch 177/200\n",
      "\u001b[1m23/23\u001b[0m \u001b[32m━━━━━━━━━━━━━━━━━━━━\u001b[0m\u001b[37m\u001b[0m \u001b[1m0s\u001b[0m 9ms/step - loss: 2042.6013 - mae: 35.6501 - mse: 2042.6013 - val_loss: 2614.5229 - val_mae: 40.0998 - val_mse: 2614.5229\n",
      "Epoch 178/200\n",
      "\u001b[1m23/23\u001b[0m \u001b[32m━━━━━━━━━━━━━━━━━━━━\u001b[0m\u001b[37m\u001b[0m \u001b[1m0s\u001b[0m 11ms/step - loss: 2194.7544 - mae: 35.4160 - mse: 2194.7544 - val_loss: 2768.4265 - val_mae: 41.8285 - val_mse: 2768.4265\n",
      "Epoch 179/200\n",
      "\u001b[1m23/23\u001b[0m \u001b[32m━━━━━━━━━━━━━━━━━━━━\u001b[0m\u001b[37m\u001b[0m \u001b[1m0s\u001b[0m 9ms/step - loss: 2060.1191 - mae: 35.2862 - mse: 2060.1191 - val_loss: 3502.4302 - val_mae: 45.8756 - val_mse: 3502.4302\n",
      "Epoch 180/200\n",
      "\u001b[1m23/23\u001b[0m \u001b[32m━━━━━━━━━━━━━━━━━━━━\u001b[0m\u001b[37m\u001b[0m \u001b[1m0s\u001b[0m 8ms/step - loss: 3344.0898 - mae: 45.5878 - mse: 3344.0898 - val_loss: 2996.7019 - val_mae: 43.6841 - val_mse: 2996.7019\n",
      "Epoch 181/200\n",
      "\u001b[1m23/23\u001b[0m \u001b[32m━━━━━━━━━━━━━━━━━━━━\u001b[0m\u001b[37m\u001b[0m \u001b[1m0s\u001b[0m 11ms/step - loss: 2254.7683 - mae: 36.2690 - mse: 2254.7683 - val_loss: 2933.7571 - val_mae: 42.8608 - val_mse: 2933.7571\n",
      "Epoch 182/200\n",
      "\u001b[1m23/23\u001b[0m \u001b[32m━━━━━━━━━━━━━━━━━━━━\u001b[0m\u001b[37m\u001b[0m \u001b[1m0s\u001b[0m 9ms/step - loss: 2385.8203 - mae: 39.4158 - mse: 2385.8203 - val_loss: 2768.2993 - val_mae: 40.8952 - val_mse: 2768.2993\n",
      "Epoch 183/200\n",
      "\u001b[1m23/23\u001b[0m \u001b[32m━━━━━━━━━━━━━━━━━━━━\u001b[0m\u001b[37m\u001b[0m \u001b[1m0s\u001b[0m 9ms/step - loss: 2658.3755 - mae: 41.5910 - mse: 2658.3755 - val_loss: 3908.0977 - val_mae: 51.4307 - val_mse: 3908.0977\n",
      "Epoch 184/200\n",
      "\u001b[1m23/23\u001b[0m \u001b[32m━━━━━━━━━━━━━━━━━━━━\u001b[0m\u001b[37m\u001b[0m \u001b[1m0s\u001b[0m 9ms/step - loss: 2983.6440 - mae: 43.0699 - mse: 2983.6440 - val_loss: 2474.8796 - val_mae: 38.9457 - val_mse: 2474.8796\n",
      "Epoch 185/200\n",
      "\u001b[1m23/23\u001b[0m \u001b[32m━━━━━━━━━━━━━━━━━━━━\u001b[0m\u001b[37m\u001b[0m \u001b[1m0s\u001b[0m 9ms/step - loss: 2448.2378 - mae: 38.3871 - mse: 2448.2378 - val_loss: 3198.2600 - val_mae: 44.7237 - val_mse: 3198.2600\n",
      "Epoch 186/200\n",
      "\u001b[1m23/23\u001b[0m \u001b[32m━━━━━━━━━━━━━━━━━━━━\u001b[0m\u001b[37m\u001b[0m \u001b[1m1s\u001b[0m 18ms/step - loss: 2880.0403 - mae: 42.8571 - mse: 2880.0400 - val_loss: 3533.2512 - val_mae: 47.6154 - val_mse: 3533.2512\n",
      "Epoch 187/200\n",
      "\u001b[1m23/23\u001b[0m \u001b[32m━━━━━━━━━━━━━━━━━━━━\u001b[0m\u001b[37m\u001b[0m \u001b[1m0s\u001b[0m 8ms/step - loss: 2422.2842 - mae: 36.7421 - mse: 2422.2842 - val_loss: 2599.8237 - val_mae: 39.9193 - val_mse: 2599.8237\n",
      "Epoch 188/200\n",
      "\u001b[1m23/23\u001b[0m \u001b[32m━━━━━━━━━━━━━━━━━━━━\u001b[0m\u001b[37m\u001b[0m \u001b[1m0s\u001b[0m 8ms/step - loss: 1739.8145 - mae: 31.6121 - mse: 1739.8145 - val_loss: 3445.7415 - val_mae: 47.4526 - val_mse: 3445.7415\n",
      "Epoch 189/200\n",
      "\u001b[1m23/23\u001b[0m \u001b[32m━━━━━━━━━━━━━━━━━━━━\u001b[0m\u001b[37m\u001b[0m \u001b[1m0s\u001b[0m 8ms/step - loss: 1843.5448 - mae: 33.9690 - mse: 1843.5447 - val_loss: 3052.4680 - val_mae: 43.4064 - val_mse: 3052.4680\n",
      "Epoch 190/200\n",
      "\u001b[1m23/23\u001b[0m \u001b[32m━━━━━━━━━━━━━━━━━━━━\u001b[0m\u001b[37m\u001b[0m \u001b[1m0s\u001b[0m 8ms/step - loss: 2787.0200 - mae: 41.4171 - mse: 2787.0200 - val_loss: 3903.2957 - val_mae: 51.0201 - val_mse: 3903.2954\n",
      "Epoch 191/200\n",
      "\u001b[1m23/23\u001b[0m \u001b[32m━━━━━━━━━━━━━━━━━━━━\u001b[0m\u001b[37m\u001b[0m \u001b[1m0s\u001b[0m 8ms/step - loss: 2288.3228 - mae: 35.9706 - mse: 2288.3228 - val_loss: 3514.5913 - val_mae: 47.9370 - val_mse: 3514.5913\n",
      "Epoch 192/200\n",
      "\u001b[1m23/23\u001b[0m \u001b[32m━━━━━━━━━━━━━━━━━━━━\u001b[0m\u001b[37m\u001b[0m \u001b[1m0s\u001b[0m 8ms/step - loss: 2447.8950 - mae: 39.7136 - mse: 2447.8950 - val_loss: 2396.6614 - val_mae: 37.9284 - val_mse: 2396.6614\n",
      "Epoch 193/200\n",
      "\u001b[1m23/23\u001b[0m \u001b[32m━━━━━━━━━━━━━━━━━━━━\u001b[0m\u001b[37m\u001b[0m \u001b[1m0s\u001b[0m 9ms/step - loss: 1986.8464 - mae: 34.2327 - mse: 1986.8464 - val_loss: 2781.5168 - val_mae: 41.3528 - val_mse: 2781.5168\n",
      "Epoch 194/200\n",
      "\u001b[1m23/23\u001b[0m \u001b[32m━━━━━━━━━━━━━━━━━━━━\u001b[0m\u001b[37m\u001b[0m \u001b[1m0s\u001b[0m 9ms/step - loss: 2296.8606 - mae: 35.8069 - mse: 2296.8606 - val_loss: 2437.9148 - val_mae: 39.0651 - val_mse: 2437.9148\n",
      "Epoch 195/200\n",
      "\u001b[1m23/23\u001b[0m \u001b[32m━━━━━━━━━━━━━━━━━━━━\u001b[0m\u001b[37m\u001b[0m \u001b[1m0s\u001b[0m 14ms/step - loss: 2342.9270 - mae: 37.6701 - mse: 2342.9272 - val_loss: 2808.9448 - val_mae: 41.6243 - val_mse: 2808.9448\n",
      "Epoch 196/200\n",
      "\u001b[1m23/23\u001b[0m \u001b[32m━━━━━━━━━━━━━━━━━━━━\u001b[0m\u001b[37m\u001b[0m \u001b[1m0s\u001b[0m 9ms/step - loss: 2269.3135 - mae: 33.5450 - mse: 2269.3135 - val_loss: 2495.0054 - val_mae: 39.3183 - val_mse: 2495.0054\n",
      "Epoch 197/200\n",
      "\u001b[1m23/23\u001b[0m \u001b[32m━━━━━━━━━━━━━━━━━━━━\u001b[0m\u001b[37m\u001b[0m \u001b[1m0s\u001b[0m 9ms/step - loss: 2441.8975 - mae: 38.6781 - mse: 2441.8975 - val_loss: 3119.6616 - val_mae: 44.1982 - val_mse: 3119.6616\n",
      "Epoch 198/200\n",
      "\u001b[1m23/23\u001b[0m \u001b[32m━━━━━━━━━━━━━━━━━━━━\u001b[0m\u001b[37m\u001b[0m \u001b[1m0s\u001b[0m 9ms/step - loss: 1868.1345 - mae: 33.2197 - mse: 1868.1346 - val_loss: 2409.4460 - val_mae: 38.2064 - val_mse: 2409.4460\n",
      "Epoch 199/200\n",
      "\u001b[1m23/23\u001b[0m \u001b[32m━━━━━━━━━━━━━━━━━━━━\u001b[0m\u001b[37m\u001b[0m \u001b[1m0s\u001b[0m 9ms/step - loss: 1772.1294 - mae: 31.3393 - mse: 1772.1294 - val_loss: 2734.8196 - val_mae: 40.5973 - val_mse: 2734.8196\n",
      "Epoch 200/200\n",
      "\u001b[1m23/23\u001b[0m \u001b[32m━━━━━━━━━━━━━━━━━━━━\u001b[0m\u001b[37m\u001b[0m \u001b[1m0s\u001b[0m 12ms/step - loss: 1786.1456 - mae: 32.3939 - mse: 1786.1456 - val_loss: 2393.7837 - val_mae: 37.9498 - val_mse: 2393.7837\n"
     ]
    }
   ],
   "source": [
    "history = model.fit(X_train_nondim, y_train,\n",
    "        epochs=EPOCHS, \n",
    "        batch_size = BATCH_SIZE,\n",
    "        validation_data = (X_val_nondim, y_val),\n",
    "        verbose=1,\n",
    "        callbacks=[])"
   ]
  },
  {
   "cell_type": "code",
   "execution_count": 20,
   "metadata": {},
   "outputs": [
    {
     "data": {
      "image/png": "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",
      "text/plain": [
       "<Figure size 640x480 with 1 Axes>"
      ]
     },
     "metadata": {},
     "output_type": "display_data"
    },
    {
     "data": {
      "image/png": "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",
      "text/plain": [
       "<Figure size 640x480 with 1 Axes>"
      ]
     },
     "metadata": {},
     "output_type": "display_data"
    }
   ],
   "source": [
    "def plot_history(history):\n",
    "  hist = pd.DataFrame(history.history)\n",
    "  hist['epoch'] = history.epoch\n",
    "\n",
    "  plt.figure()\n",
    "  plt.xlabel('Epoch')\n",
    "  plt.ylabel('Mean Abs Error [UNITS]')\n",
    "  plt.plot(hist['epoch'], hist['mae'],\n",
    "           label='Train Error')\n",
    "  plt.plot(hist['epoch'], hist['val_mae'],\n",
    "           label = 'Val Error')\n",
    "  plt.legend()\n",
    "\n",
    "  plt.figure()\n",
    "  plt.xlabel('Epoch')\n",
    "  plt.ylabel('Mean Square Error [$UNITS^2$]')\n",
    "  plt.plot(hist['epoch'], hist['mse'],\n",
    "           label='Train Error')\n",
    "  plt.plot(hist['epoch'], hist['val_mse'],\n",
    "           label = 'Validation Error')\n",
    "  plt.legend()\n",
    "  plt.show()\n",
    "\n",
    "\n",
    "plot_history(history)"
   ]
  },
  {
   "cell_type": "markdown",
   "metadata": {},
   "source": [
    "### 3 - Evaluación"
   ]
  },
  {
   "cell_type": "code",
   "execution_count": 21,
   "metadata": {},
   "outputs": [
    {
     "name": "stdout",
     "output_type": "stream",
     "text": [
      "2/2 - 0s - 191ms/step - loss: 15316.9004 - mae: 71.6795 - mse: 15316.9004\n",
      "MAE en test: 71.68 UNITS\n"
     ]
    }
   ],
   "source": [
    "loss, mae, mse = model.evaluate(X_test_nondim, y_test, verbose=2)\n",
    "\n",
    "print(\"MAE en test: {:5.2f} UNITS\".format(mae))"
   ]
  },
  {
   "cell_type": "markdown",
   "metadata": {},
   "source": [
    "### 4 - Realizar predicciones"
   ]
  },
  {
   "cell_type": "code",
   "execution_count": 22,
   "metadata": {},
   "outputs": [
    {
     "name": "stdout",
     "output_type": "stream",
     "text": [
      "\u001b[1m2/2\u001b[0m \u001b[32m━━━━━━━━━━━━━━━━━━━━\u001b[0m\u001b[37m\u001b[0m \u001b[1m0s\u001b[0m 29ms/step\n"
     ]
    },
    {
     "data": {
      "text/plain": [
       "(np.float64(1720.669457435608),\n",
       " np.float64(-22.884778022766113),\n",
       " np.float64(1720.669457435608),\n",
       " np.float64(-22.884778022766113))"
      ]
     },
     "execution_count": 22,
     "metadata": {},
     "output_type": "execute_result"
    },
    {
     "data": {
      "image/png": "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",
      "text/plain": [
       "<Figure size 640x480 with 1 Axes>"
      ]
     },
     "metadata": {},
     "output_type": "display_data"
    }
   ],
   "source": [
    "test_predictions = model.predict(X_test_nondim).flatten()\n",
    "\n",
    "plt.scatter(y_test, test_predictions)\n",
    "plt.xlabel('Real Value')\n",
    "plt.ylabel('Predicted Value')\n",
    "p1 = max(max(test_predictions), max(y_test))\n",
    "p2 = min(min(test_predictions), min(y_test))\n",
    "plt.plot([p1, p2], [p1, p2], '--k')\n",
    "plt.xlim([p1,p2])\n",
    "plt.ylim([p1,p2])\n",
    "plt.axis('square')"
   ]
  },
  {
   "cell_type": "markdown",
   "metadata": {},
   "source": [
    "También podemos visualizar la distribución de errores."
   ]
  },
  {
   "cell_type": "code",
   "execution_count": 23,
   "metadata": {},
   "outputs": [
    {
     "data": {
      "image/png": "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",
      "text/plain": [
       "<Figure size 640x480 with 1 Axes>"
      ]
     },
     "metadata": {},
     "output_type": "display_data"
    }
   ],
   "source": [
    "error = test_predictions - y_test\n",
    "plt.hist(error, bins = 25)\n",
    "plt.xlabel(\"Prediction Error [UNITS]\")\n",
    "_ = plt.ylabel(\"Count\")"
   ]
  },
  {
   "cell_type": "markdown",
   "metadata": {},
   "source": [
    "## Conclusiones\n",
    "\n",
    "Con este ejemplo hemos aprendido:\n",
    "\n",
    "* El error cuadrático medio (MSE) es una *loss function* muy utilizada para problemas de regresión (se utilizan diferentes funciones de pérdida para problemas de clasificación).\n",
    "* Otra métrica muy común para evaluar el modelo es el error absoluto medio (MAE).\n",
    "* Cuando las *inputs* tienen valores con diferentes rangos, deben aplicarse técnicas de escalado."
   ]
  },
  {
   "cell_type": "markdown",
   "metadata": {},
   "source": [
    "Con este modelo se va a aprender a crear una red neuronal\n",
    "con otro ejemplo se va a ver el overfitting + early stopping\n",
    "con otro diferente el hyperparam tunning\n",
    "se vuelve a este si da tiempo para el concurso"
   ]
  }
 ],
 "metadata": {
  "kernelspec": {
   "display_name": "env_curso_tf",
   "language": "python",
   "name": "python3"
  },
  "language_info": {
   "codemirror_mode": {
    "name": "ipython",
    "version": 3
   },
   "file_extension": ".py",
   "mimetype": "text/x-python",
   "name": "python",
   "nbconvert_exporter": "python",
   "pygments_lexer": "ipython3",
   "version": "3.11.11"
  }
 },
 "nbformat": 4,
 "nbformat_minor": 2
}
